{
  "nbformat": 4,
  "nbformat_minor": 0,
  "metadata": {
    "colab": {
      "name": "fast.ipynb",
      "provenance": [],
      "collapsed_sections": [],
      "authorship_tag": "ABX9TyN90XGVBk+M6kQvNmL109Qb",
      "include_colab_link": true
    },
    "kernelspec": {
      "name": "python3",
      "display_name": "Python 3"
    },
    "language_info": {
      "name": "python"
    },
    "widgets": {
      "application/vnd.jupyter.widget-state+json": {
        "6b9c7fe4f30b4eeab1f998a903181e2a": {
          "model_module": "@jupyter-widgets/controls",
          "model_name": "HBoxModel",
          "state": {
            "_view_name": "HBoxView",
            "_dom_classes": [],
            "_model_name": "HBoxModel",
            "_view_module": "@jupyter-widgets/controls",
            "_model_module_version": "1.5.0",
            "_view_count": null,
            "_view_module_version": "1.5.0",
            "box_style": "",
            "layout": "IPY_MODEL_fa9b10f3210f4cdabc7c34aca1ec8970",
            "_model_module": "@jupyter-widgets/controls",
            "children": [
              "IPY_MODEL_f234863c3b0c4b638009563087d0b356",
              "IPY_MODEL_2efae7436aa1490889c74797b4d7da92",
              "IPY_MODEL_1ac082826ade404eb6dfa45b26c29fc3",
              "IPY_MODEL_c85531103c5444aabd0ad84251dd5527",
              "IPY_MODEL_2fa0aa3d867947e98967985f40ba1c21",
              "IPY_MODEL_40fbd26eb68842a7ac869ec72f195f70",
              "IPY_MODEL_b8e16b6d42ec402895680c875e448f93"
            ]
          }
        },
        "fa9b10f3210f4cdabc7c34aca1ec8970": {
          "model_module": "@jupyter-widgets/base",
          "model_name": "LayoutModel",
          "state": {
            "_view_name": "LayoutView",
            "grid_template_rows": null,
            "right": null,
            "justify_content": null,
            "_view_module": "@jupyter-widgets/base",
            "overflow": null,
            "_model_module_version": "1.2.0",
            "_view_count": null,
            "flex_flow": null,
            "width": null,
            "min_width": null,
            "border": null,
            "align_items": null,
            "bottom": null,
            "_model_module": "@jupyter-widgets/base",
            "top": null,
            "grid_column": null,
            "overflow_y": null,
            "overflow_x": null,
            "grid_auto_flow": null,
            "grid_area": null,
            "grid_template_columns": null,
            "flex": null,
            "_model_name": "LayoutModel",
            "justify_items": null,
            "grid_row": null,
            "max_height": null,
            "align_content": null,
            "visibility": null,
            "align_self": null,
            "height": null,
            "min_height": null,
            "padding": null,
            "grid_auto_rows": null,
            "grid_gap": null,
            "max_width": null,
            "order": null,
            "_view_module_version": "1.2.0",
            "grid_template_areas": null,
            "object_position": null,
            "object_fit": null,
            "grid_auto_columns": null,
            "margin": null,
            "display": null,
            "left": null
          }
        },
        "f234863c3b0c4b638009563087d0b356": {
          "model_module": "@jupyter-widgets/controls",
          "model_name": "ButtonModel",
          "state": {
            "_view_name": "ButtonView",
            "style": "IPY_MODEL_ca3e62d4d4f448dbbce5d0c97f81f5ef",
            "_dom_classes": [],
            "description": "|<<",
            "_model_name": "ButtonModel",
            "button_style": "",
            "_view_module": "@jupyter-widgets/controls",
            "_model_module_version": "1.5.0",
            "tooltip": "",
            "_view_count": null,
            "disabled": false,
            "_view_module_version": "1.5.0",
            "layout": "IPY_MODEL_7ba5c505917843d18e2c6c2881797d5d",
            "_model_module": "@jupyter-widgets/controls",
            "icon": ""
          }
        },
        "2efae7436aa1490889c74797b4d7da92": {
          "model_module": "@jupyter-widgets/controls",
          "model_name": "ButtonModel",
          "state": {
            "_view_name": "ButtonView",
            "style": "IPY_MODEL_4e27c3b031b54f3385f30fa44803d508",
            "_dom_classes": [],
            "description": "<<",
            "_model_name": "ButtonModel",
            "button_style": "",
            "_view_module": "@jupyter-widgets/controls",
            "_model_module_version": "1.5.0",
            "tooltip": "",
            "_view_count": null,
            "disabled": false,
            "_view_module_version": "1.5.0",
            "layout": "IPY_MODEL_6b0c1ccc97f64e4eace32c984ebe207a",
            "_model_module": "@jupyter-widgets/controls",
            "icon": ""
          }
        },
        "1ac082826ade404eb6dfa45b26c29fc3": {
          "model_module": "@jupyter-widgets/controls",
          "model_name": "LabelModel",
          "state": {
            "_view_name": "LabelView",
            "style": "IPY_MODEL_56fd428cb5f146fca09987ad027d4c48",
            "_dom_classes": [],
            "description": "",
            "_model_name": "LabelModel",
            "placeholder": "​",
            "_view_module": "@jupyter-widgets/controls",
            "_model_module_version": "1.5.0",
            "value": "Page 3 of 13",
            "_view_count": null,
            "_view_module_version": "1.5.0",
            "description_tooltip": null,
            "_model_module": "@jupyter-widgets/controls",
            "layout": "IPY_MODEL_e15b7a262ca04db4a317ca0aeff19b73"
          }
        },
        "c85531103c5444aabd0ad84251dd5527": {
          "model_module": "@jupyter-widgets/controls",
          "model_name": "ButtonModel",
          "state": {
            "_view_name": "ButtonView",
            "style": "IPY_MODEL_3eec61cf4e6d48b6b364c3ff69969a1b",
            "_dom_classes": [],
            "description": ">>",
            "_model_name": "ButtonModel",
            "button_style": "",
            "_view_module": "@jupyter-widgets/controls",
            "_model_module_version": "1.5.0",
            "tooltip": "",
            "_view_count": null,
            "disabled": false,
            "_view_module_version": "1.5.0",
            "layout": "IPY_MODEL_cfbc3ffc0b834d38ab5704e78ddbc472",
            "_model_module": "@jupyter-widgets/controls",
            "icon": ""
          }
        },
        "2fa0aa3d867947e98967985f40ba1c21": {
          "model_module": "@jupyter-widgets/controls",
          "model_name": "ButtonModel",
          "state": {
            "_view_name": "ButtonView",
            "style": "IPY_MODEL_08cb359b40d645deb03f714d45ad2e09",
            "_dom_classes": [],
            "description": ">>|",
            "_model_name": "ButtonModel",
            "button_style": "",
            "_view_module": "@jupyter-widgets/controls",
            "_model_module_version": "1.5.0",
            "tooltip": "",
            "_view_count": null,
            "disabled": false,
            "_view_module_version": "1.5.0",
            "layout": "IPY_MODEL_055811835bca4183b488391611c06130",
            "_model_module": "@jupyter-widgets/controls",
            "icon": ""
          }
        },
        "40fbd26eb68842a7ac869ec72f195f70": {
          "model_module": "@jupyter-widgets/controls",
          "model_name": "DropdownModel",
          "state": {
            "_options_labels": [
              "burger",
              "noodles"
            ],
            "_view_name": "DropdownView",
            "style": "IPY_MODEL_15f5daeb5b914eb689718c0133274615",
            "_dom_classes": [],
            "description": "Folder: ",
            "_model_name": "DropdownModel",
            "index": 0,
            "_view_module": "@jupyter-widgets/controls",
            "_model_module_version": "1.5.0",
            "_view_count": null,
            "disabled": false,
            "_view_module_version": "1.5.0",
            "description_tooltip": null,
            "_model_module": "@jupyter-widgets/controls",
            "layout": "IPY_MODEL_4d654a9ff98b4ab38e4e4b4aaef21387"
          }
        },
        "b8e16b6d42ec402895680c875e448f93": {
          "model_module": "@jupyter-widgets/controls",
          "model_name": "ButtonModel",
          "state": {
            "_view_name": "ButtonView",
            "style": "IPY_MODEL_c42803ca71cb47e9b32b057cb74811a2",
            "_dom_classes": [],
            "description": "↻",
            "_model_name": "ButtonModel",
            "button_style": "",
            "_view_module": "@jupyter-widgets/controls",
            "_model_module_version": "1.5.0",
            "tooltip": "",
            "_view_count": null,
            "disabled": false,
            "_view_module_version": "1.5.0",
            "layout": "IPY_MODEL_78f86d23c0eb42298ac1333206881040",
            "_model_module": "@jupyter-widgets/controls",
            "icon": ""
          }
        },
        "ca3e62d4d4f448dbbce5d0c97f81f5ef": {
          "model_module": "@jupyter-widgets/controls",
          "model_name": "ButtonStyleModel",
          "state": {
            "_view_name": "StyleView",
            "_model_name": "ButtonStyleModel",
            "_view_module": "@jupyter-widgets/base",
            "_model_module_version": "1.5.0",
            "_view_count": null,
            "button_color": null,
            "font_weight": "",
            "_view_module_version": "1.2.0",
            "_model_module": "@jupyter-widgets/controls"
          }
        },
        "7ba5c505917843d18e2c6c2881797d5d": {
          "model_module": "@jupyter-widgets/base",
          "model_name": "LayoutModel",
          "state": {
            "_view_name": "LayoutView",
            "grid_template_rows": null,
            "right": null,
            "justify_content": null,
            "_view_module": "@jupyter-widgets/base",
            "overflow": null,
            "_model_module_version": "1.2.0",
            "_view_count": null,
            "flex_flow": null,
            "width": "60px",
            "min_width": null,
            "border": null,
            "align_items": null,
            "bottom": null,
            "_model_module": "@jupyter-widgets/base",
            "top": null,
            "grid_column": null,
            "overflow_y": null,
            "overflow_x": null,
            "grid_auto_flow": null,
            "grid_area": null,
            "grid_template_columns": null,
            "flex": null,
            "_model_name": "LayoutModel",
            "justify_items": null,
            "grid_row": null,
            "max_height": null,
            "align_content": null,
            "visibility": null,
            "align_self": null,
            "height": null,
            "min_height": null,
            "padding": null,
            "grid_auto_rows": null,
            "grid_gap": null,
            "max_width": null,
            "order": null,
            "_view_module_version": "1.2.0",
            "grid_template_areas": null,
            "object_position": null,
            "object_fit": null,
            "grid_auto_columns": null,
            "margin": null,
            "display": null,
            "left": null
          }
        },
        "4e27c3b031b54f3385f30fa44803d508": {
          "model_module": "@jupyter-widgets/controls",
          "model_name": "ButtonStyleModel",
          "state": {
            "_view_name": "StyleView",
            "_model_name": "ButtonStyleModel",
            "_view_module": "@jupyter-widgets/base",
            "_model_module_version": "1.5.0",
            "_view_count": null,
            "button_color": null,
            "font_weight": "",
            "_view_module_version": "1.2.0",
            "_model_module": "@jupyter-widgets/controls"
          }
        },
        "6b0c1ccc97f64e4eace32c984ebe207a": {
          "model_module": "@jupyter-widgets/base",
          "model_name": "LayoutModel",
          "state": {
            "_view_name": "LayoutView",
            "grid_template_rows": null,
            "right": null,
            "justify_content": null,
            "_view_module": "@jupyter-widgets/base",
            "overflow": null,
            "_model_module_version": "1.2.0",
            "_view_count": null,
            "flex_flow": null,
            "width": "60px",
            "min_width": null,
            "border": null,
            "align_items": null,
            "bottom": null,
            "_model_module": "@jupyter-widgets/base",
            "top": null,
            "grid_column": null,
            "overflow_y": null,
            "overflow_x": null,
            "grid_auto_flow": null,
            "grid_area": null,
            "grid_template_columns": null,
            "flex": null,
            "_model_name": "LayoutModel",
            "justify_items": null,
            "grid_row": null,
            "max_height": null,
            "align_content": null,
            "visibility": null,
            "align_self": null,
            "height": null,
            "min_height": null,
            "padding": null,
            "grid_auto_rows": null,
            "grid_gap": null,
            "max_width": null,
            "order": null,
            "_view_module_version": "1.2.0",
            "grid_template_areas": null,
            "object_position": null,
            "object_fit": null,
            "grid_auto_columns": null,
            "margin": null,
            "display": null,
            "left": null
          }
        },
        "56fd428cb5f146fca09987ad027d4c48": {
          "model_module": "@jupyter-widgets/controls",
          "model_name": "DescriptionStyleModel",
          "state": {
            "_view_name": "StyleView",
            "_model_name": "DescriptionStyleModel",
            "description_width": "",
            "_view_module": "@jupyter-widgets/base",
            "_model_module_version": "1.5.0",
            "_view_count": null,
            "_view_module_version": "1.2.0",
            "_model_module": "@jupyter-widgets/controls"
          }
        },
        "e15b7a262ca04db4a317ca0aeff19b73": {
          "model_module": "@jupyter-widgets/base",
          "model_name": "LayoutModel",
          "state": {
            "_view_name": "LayoutView",
            "grid_template_rows": null,
            "right": null,
            "justify_content": "center",
            "_view_module": "@jupyter-widgets/base",
            "overflow": null,
            "_model_module_version": "1.2.0",
            "_view_count": null,
            "flex_flow": null,
            "width": "100px",
            "min_width": null,
            "border": null,
            "align_items": null,
            "bottom": null,
            "_model_module": "@jupyter-widgets/base",
            "top": null,
            "grid_column": null,
            "overflow_y": null,
            "overflow_x": null,
            "grid_auto_flow": null,
            "grid_area": null,
            "grid_template_columns": null,
            "flex": null,
            "_model_name": "LayoutModel",
            "justify_items": null,
            "grid_row": null,
            "max_height": null,
            "align_content": null,
            "visibility": null,
            "align_self": null,
            "height": null,
            "min_height": null,
            "padding": null,
            "grid_auto_rows": null,
            "grid_gap": null,
            "max_width": null,
            "order": null,
            "_view_module_version": "1.2.0",
            "grid_template_areas": null,
            "object_position": null,
            "object_fit": null,
            "grid_auto_columns": null,
            "margin": null,
            "display": "flex",
            "left": null
          }
        },
        "3eec61cf4e6d48b6b364c3ff69969a1b": {
          "model_module": "@jupyter-widgets/controls",
          "model_name": "ButtonStyleModel",
          "state": {
            "_view_name": "StyleView",
            "_model_name": "ButtonStyleModel",
            "_view_module": "@jupyter-widgets/base",
            "_model_module_version": "1.5.0",
            "_view_count": null,
            "button_color": null,
            "font_weight": "",
            "_view_module_version": "1.2.0",
            "_model_module": "@jupyter-widgets/controls"
          }
        },
        "cfbc3ffc0b834d38ab5704e78ddbc472": {
          "model_module": "@jupyter-widgets/base",
          "model_name": "LayoutModel",
          "state": {
            "_view_name": "LayoutView",
            "grid_template_rows": null,
            "right": null,
            "justify_content": null,
            "_view_module": "@jupyter-widgets/base",
            "overflow": null,
            "_model_module_version": "1.2.0",
            "_view_count": null,
            "flex_flow": null,
            "width": "60px",
            "min_width": null,
            "border": null,
            "align_items": null,
            "bottom": null,
            "_model_module": "@jupyter-widgets/base",
            "top": null,
            "grid_column": null,
            "overflow_y": null,
            "overflow_x": null,
            "grid_auto_flow": null,
            "grid_area": null,
            "grid_template_columns": null,
            "flex": null,
            "_model_name": "LayoutModel",
            "justify_items": null,
            "grid_row": null,
            "max_height": null,
            "align_content": null,
            "visibility": null,
            "align_self": null,
            "height": null,
            "min_height": null,
            "padding": null,
            "grid_auto_rows": null,
            "grid_gap": null,
            "max_width": null,
            "order": null,
            "_view_module_version": "1.2.0",
            "grid_template_areas": null,
            "object_position": null,
            "object_fit": null,
            "grid_auto_columns": null,
            "margin": null,
            "display": null,
            "left": null
          }
        },
        "08cb359b40d645deb03f714d45ad2e09": {
          "model_module": "@jupyter-widgets/controls",
          "model_name": "ButtonStyleModel",
          "state": {
            "_view_name": "StyleView",
            "_model_name": "ButtonStyleModel",
            "_view_module": "@jupyter-widgets/base",
            "_model_module_version": "1.5.0",
            "_view_count": null,
            "button_color": null,
            "font_weight": "",
            "_view_module_version": "1.2.0",
            "_model_module": "@jupyter-widgets/controls"
          }
        },
        "055811835bca4183b488391611c06130": {
          "model_module": "@jupyter-widgets/base",
          "model_name": "LayoutModel",
          "state": {
            "_view_name": "LayoutView",
            "grid_template_rows": null,
            "right": null,
            "justify_content": null,
            "_view_module": "@jupyter-widgets/base",
            "overflow": null,
            "_model_module_version": "1.2.0",
            "_view_count": null,
            "flex_flow": null,
            "width": "60px",
            "min_width": null,
            "border": null,
            "align_items": null,
            "bottom": null,
            "_model_module": "@jupyter-widgets/base",
            "top": null,
            "grid_column": null,
            "overflow_y": null,
            "overflow_x": null,
            "grid_auto_flow": null,
            "grid_area": null,
            "grid_template_columns": null,
            "flex": null,
            "_model_name": "LayoutModel",
            "justify_items": null,
            "grid_row": null,
            "max_height": null,
            "align_content": null,
            "visibility": null,
            "align_self": null,
            "height": null,
            "min_height": null,
            "padding": null,
            "grid_auto_rows": null,
            "grid_gap": null,
            "max_width": null,
            "order": null,
            "_view_module_version": "1.2.0",
            "grid_template_areas": null,
            "object_position": null,
            "object_fit": null,
            "grid_auto_columns": null,
            "margin": null,
            "display": null,
            "left": null
          }
        },
        "15f5daeb5b914eb689718c0133274615": {
          "model_module": "@jupyter-widgets/controls",
          "model_name": "DescriptionStyleModel",
          "state": {
            "_view_name": "StyleView",
            "_model_name": "DescriptionStyleModel",
            "description_width": "",
            "_view_module": "@jupyter-widgets/base",
            "_model_module_version": "1.5.0",
            "_view_count": null,
            "_view_module_version": "1.2.0",
            "_model_module": "@jupyter-widgets/controls"
          }
        },
        "4d654a9ff98b4ab38e4e4b4aaef21387": {
          "model_module": "@jupyter-widgets/base",
          "model_name": "LayoutModel",
          "state": {
            "_view_name": "LayoutView",
            "grid_template_rows": null,
            "right": null,
            "justify_content": null,
            "_view_module": "@jupyter-widgets/base",
            "overflow": null,
            "_model_module_version": "1.2.0",
            "_view_count": null,
            "flex_flow": null,
            "width": null,
            "min_width": null,
            "border": null,
            "align_items": null,
            "bottom": null,
            "_model_module": "@jupyter-widgets/base",
            "top": null,
            "grid_column": null,
            "overflow_y": null,
            "overflow_x": null,
            "grid_auto_flow": null,
            "grid_area": null,
            "grid_template_columns": null,
            "flex": null,
            "_model_name": "LayoutModel",
            "justify_items": null,
            "grid_row": null,
            "max_height": null,
            "align_content": null,
            "visibility": null,
            "align_self": null,
            "height": null,
            "min_height": null,
            "padding": null,
            "grid_auto_rows": null,
            "grid_gap": null,
            "max_width": null,
            "order": null,
            "_view_module_version": "1.2.0",
            "grid_template_areas": null,
            "object_position": null,
            "object_fit": null,
            "grid_auto_columns": null,
            "margin": null,
            "display": null,
            "left": null
          }
        },
        "c42803ca71cb47e9b32b057cb74811a2": {
          "model_module": "@jupyter-widgets/controls",
          "model_name": "ButtonStyleModel",
          "state": {
            "_view_name": "StyleView",
            "_model_name": "ButtonStyleModel",
            "_view_module": "@jupyter-widgets/base",
            "_model_module_version": "1.5.0",
            "_view_count": null,
            "button_color": null,
            "font_weight": "",
            "_view_module_version": "1.2.0",
            "_model_module": "@jupyter-widgets/controls"
          }
        },
        "78f86d23c0eb42298ac1333206881040": {
          "model_module": "@jupyter-widgets/base",
          "model_name": "LayoutModel",
          "state": {
            "_view_name": "LayoutView",
            "grid_template_rows": null,
            "right": null,
            "justify_content": null,
            "_view_module": "@jupyter-widgets/base",
            "overflow": null,
            "_model_module_version": "1.2.0",
            "_view_count": null,
            "flex_flow": null,
            "width": "40px",
            "min_width": null,
            "border": null,
            "align_items": null,
            "bottom": null,
            "_model_module": "@jupyter-widgets/base",
            "top": null,
            "grid_column": null,
            "overflow_y": null,
            "overflow_x": null,
            "grid_auto_flow": null,
            "grid_area": null,
            "grid_template_columns": null,
            "flex": null,
            "_model_name": "LayoutModel",
            "justify_items": null,
            "grid_row": null,
            "max_height": null,
            "align_content": null,
            "visibility": null,
            "align_self": null,
            "height": null,
            "min_height": null,
            "padding": null,
            "grid_auto_rows": null,
            "grid_gap": null,
            "max_width": null,
            "order": null,
            "_view_module_version": "1.2.0",
            "grid_template_areas": null,
            "object_position": null,
            "object_fit": null,
            "grid_auto_columns": null,
            "margin": "0px 0px 0px 10px",
            "display": null,
            "left": null
          }
        },
        "2adeb9c947564e4b99657d8f0a596e9c": {
          "model_module": "@jupyter-widgets/controls",
          "model_name": "HTMLModel",
          "state": {
            "_view_name": "HTMLView",
            "style": "IPY_MODEL_8a5a70113f834d95bd0726507c51a8ec",
            "_dom_classes": [],
            "description": "",
            "_model_name": "HTMLModel",
            "placeholder": "​",
            "_view_module": "@jupyter-widgets/controls",
            "_model_module_version": "1.5.0",
            "value": "<h2>No images left to display in this folder.</h2>",
            "_view_count": null,
            "_view_module_version": "1.5.0",
            "description_tooltip": null,
            "_model_module": "@jupyter-widgets/controls",
            "layout": "IPY_MODEL_6c2c3323f24e4b76940166bc28c23dba"
          }
        },
        "8a5a70113f834d95bd0726507c51a8ec": {
          "model_module": "@jupyter-widgets/controls",
          "model_name": "DescriptionStyleModel",
          "state": {
            "_view_name": "StyleView",
            "_model_name": "DescriptionStyleModel",
            "description_width": "",
            "_view_module": "@jupyter-widgets/base",
            "_model_module_version": "1.5.0",
            "_view_count": null,
            "_view_module_version": "1.2.0",
            "_model_module": "@jupyter-widgets/controls"
          }
        },
        "6c2c3323f24e4b76940166bc28c23dba": {
          "model_module": "@jupyter-widgets/base",
          "model_name": "LayoutModel",
          "state": {
            "_view_name": "LayoutView",
            "grid_template_rows": null,
            "right": null,
            "justify_content": null,
            "_view_module": "@jupyter-widgets/base",
            "overflow": null,
            "_model_module_version": "1.2.0",
            "_view_count": null,
            "flex_flow": null,
            "width": null,
            "min_width": null,
            "border": null,
            "align_items": null,
            "bottom": null,
            "_model_module": "@jupyter-widgets/base",
            "top": null,
            "grid_column": null,
            "overflow_y": null,
            "overflow_x": null,
            "grid_auto_flow": null,
            "grid_area": null,
            "grid_template_columns": null,
            "flex": null,
            "_model_name": "LayoutModel",
            "justify_items": null,
            "grid_row": null,
            "max_height": null,
            "align_content": null,
            "visibility": "hidden",
            "align_self": null,
            "height": null,
            "min_height": null,
            "padding": null,
            "grid_auto_rows": null,
            "grid_gap": null,
            "max_width": null,
            "order": null,
            "_view_module_version": "1.2.0",
            "grid_template_areas": null,
            "object_position": null,
            "object_fit": null,
            "grid_auto_columns": null,
            "margin": null,
            "display": null,
            "left": null
          }
        },
        "4457de73dc8f4ee881f51102ffac8fd5": {
          "model_module": "@jupyter-widgets/controls",
          "model_name": "GridBoxModel",
          "state": {
            "_view_name": "GridBoxView",
            "_dom_classes": [],
            "_model_name": "GridBoxModel",
            "_view_module": "@jupyter-widgets/controls",
            "_model_module_version": "1.5.0",
            "_view_count": null,
            "_view_module_version": "1.5.0",
            "box_style": "",
            "layout": "IPY_MODEL_62e43441698c45d1858848c0f39768f4",
            "_model_module": "@jupyter-widgets/controls",
            "children": [
              "IPY_MODEL_3c23b9424eb54aab8af771d0f67681be",
              "IPY_MODEL_8027bfd2372f4b8592b0bf2531aad082",
              "IPY_MODEL_f0b1031e37854d419daf70b5c6833159",
              "IPY_MODEL_e5481cbb4dfb42cc9a389ebb5d86ff12",
              "IPY_MODEL_e2f02adbab7946e08d36d17f8f38adbd",
              "IPY_MODEL_3dcb1d658d67444ebd0d9e857df191a8",
              "IPY_MODEL_11414bf4b4554c568f79a7b108e43755",
              "IPY_MODEL_2dbe2319df064b92a288bf7a891dc016"
            ]
          }
        },
        "62e43441698c45d1858848c0f39768f4": {
          "model_module": "@jupyter-widgets/base",
          "model_name": "LayoutModel",
          "state": {
            "_view_name": "LayoutView",
            "grid_template_rows": null,
            "right": null,
            "justify_content": null,
            "_view_module": "@jupyter-widgets/base",
            "overflow": null,
            "_model_module_version": "1.2.0",
            "_view_count": null,
            "flex_flow": null,
            "width": null,
            "min_width": null,
            "border": null,
            "align_items": null,
            "bottom": null,
            "_model_module": "@jupyter-widgets/base",
            "top": null,
            "grid_column": null,
            "overflow_y": null,
            "overflow_x": null,
            "grid_auto_flow": null,
            "grid_area": null,
            "grid_template_columns": "repeat(4, 25%)",
            "flex": null,
            "_model_name": "LayoutModel",
            "justify_items": null,
            "grid_row": null,
            "max_height": null,
            "align_content": null,
            "visibility": "visible",
            "align_self": null,
            "height": null,
            "min_height": null,
            "padding": null,
            "grid_auto_rows": null,
            "grid_gap": null,
            "max_width": null,
            "order": null,
            "_view_module_version": "1.2.0",
            "grid_template_areas": null,
            "object_position": null,
            "object_fit": null,
            "grid_auto_columns": null,
            "margin": "15px",
            "display": null,
            "left": null
          }
        },
        "3c23b9424eb54aab8af771d0f67681be": {
          "model_module": "@jupyter-widgets/controls",
          "model_name": "VBoxModel",
          "state": {
            "_view_name": "VBoxView",
            "_dom_classes": [],
            "_model_name": "VBoxModel",
            "_view_module": "@jupyter-widgets/controls",
            "_model_module_version": "1.5.0",
            "_view_count": null,
            "_view_module_version": "1.5.0",
            "box_style": "",
            "layout": "IPY_MODEL_f4ae0c7b75684414a686032f53954d57",
            "_model_module": "@jupyter-widgets/controls",
            "children": [
              "IPY_MODEL_8c1197d0f36c4f7897f7a3d86198d2a1",
              "IPY_MODEL_a4bf8e4c4a9647c3affe85fef0b4909c"
            ]
          }
        },
        "8027bfd2372f4b8592b0bf2531aad082": {
          "model_module": "@jupyter-widgets/controls",
          "model_name": "VBoxModel",
          "state": {
            "_view_name": "VBoxView",
            "_dom_classes": [],
            "_model_name": "VBoxModel",
            "_view_module": "@jupyter-widgets/controls",
            "_model_module_version": "1.5.0",
            "_view_count": null,
            "_view_module_version": "1.5.0",
            "box_style": "",
            "layout": "IPY_MODEL_8a9825be70344ee8a34154603c927331",
            "_model_module": "@jupyter-widgets/controls",
            "children": [
              "IPY_MODEL_917753e60b2244c5871a9fa8e0ffddef",
              "IPY_MODEL_2373eb57abcd4894ad2ef9609adafdd2"
            ]
          }
        },
        "f0b1031e37854d419daf70b5c6833159": {
          "model_module": "@jupyter-widgets/controls",
          "model_name": "VBoxModel",
          "state": {
            "_view_name": "VBoxView",
            "_dom_classes": [],
            "_model_name": "VBoxModel",
            "_view_module": "@jupyter-widgets/controls",
            "_model_module_version": "1.5.0",
            "_view_count": null,
            "_view_module_version": "1.5.0",
            "box_style": "",
            "layout": "IPY_MODEL_6f5fb534e2e24f23a10d4971668ed532",
            "_model_module": "@jupyter-widgets/controls",
            "children": [
              "IPY_MODEL_a76cb7ecf2074838ae53571c72a99294",
              "IPY_MODEL_1ab0f444f7564c9caa493e21498b7f2e"
            ]
          }
        },
        "e5481cbb4dfb42cc9a389ebb5d86ff12": {
          "model_module": "@jupyter-widgets/controls",
          "model_name": "VBoxModel",
          "state": {
            "_view_name": "VBoxView",
            "_dom_classes": [],
            "_model_name": "VBoxModel",
            "_view_module": "@jupyter-widgets/controls",
            "_model_module_version": "1.5.0",
            "_view_count": null,
            "_view_module_version": "1.5.0",
            "box_style": "",
            "layout": "IPY_MODEL_6ad7a7690c4d407fa560a0648938e43e",
            "_model_module": "@jupyter-widgets/controls",
            "children": [
              "IPY_MODEL_86b69deb6a414537a5f5da628f77a8d4",
              "IPY_MODEL_89090a7b48214bf29746c7319db6f21e"
            ]
          }
        },
        "e2f02adbab7946e08d36d17f8f38adbd": {
          "model_module": "@jupyter-widgets/controls",
          "model_name": "VBoxModel",
          "state": {
            "_view_name": "VBoxView",
            "_dom_classes": [],
            "_model_name": "VBoxModel",
            "_view_module": "@jupyter-widgets/controls",
            "_model_module_version": "1.5.0",
            "_view_count": null,
            "_view_module_version": "1.5.0",
            "box_style": "",
            "layout": "IPY_MODEL_e99ee25c188345eca1fddd284fe8e8aa",
            "_model_module": "@jupyter-widgets/controls",
            "children": [
              "IPY_MODEL_3f4fd3bd0b7048cdbdc256f9c8665511",
              "IPY_MODEL_90dafdfdecae4aaf8ef0a483e5671c49"
            ]
          }
        },
        "3dcb1d658d67444ebd0d9e857df191a8": {
          "model_module": "@jupyter-widgets/controls",
          "model_name": "VBoxModel",
          "state": {
            "_view_name": "VBoxView",
            "_dom_classes": [],
            "_model_name": "VBoxModel",
            "_view_module": "@jupyter-widgets/controls",
            "_model_module_version": "1.5.0",
            "_view_count": null,
            "_view_module_version": "1.5.0",
            "box_style": "",
            "layout": "IPY_MODEL_5a3b06bd9a0341b48ba0edf92a3288b1",
            "_model_module": "@jupyter-widgets/controls",
            "children": [
              "IPY_MODEL_ebd6ade583ab4d18b81e5dc47a916973",
              "IPY_MODEL_77a0bfda95f14099b8bb767463b64993"
            ]
          }
        },
        "11414bf4b4554c568f79a7b108e43755": {
          "model_module": "@jupyter-widgets/controls",
          "model_name": "VBoxModel",
          "state": {
            "_view_name": "VBoxView",
            "_dom_classes": [],
            "_model_name": "VBoxModel",
            "_view_module": "@jupyter-widgets/controls",
            "_model_module_version": "1.5.0",
            "_view_count": null,
            "_view_module_version": "1.5.0",
            "box_style": "",
            "layout": "IPY_MODEL_b161512968c341f489fb77a6d67a6965",
            "_model_module": "@jupyter-widgets/controls",
            "children": [
              "IPY_MODEL_a5f141f258cf40a3a90b89cb6e163e6a",
              "IPY_MODEL_f403caff396b4f109827f758bc1fd3f4"
            ]
          }
        },
        "2dbe2319df064b92a288bf7a891dc016": {
          "model_module": "@jupyter-widgets/controls",
          "model_name": "VBoxModel",
          "state": {
            "_view_name": "VBoxView",
            "_dom_classes": [],
            "_model_name": "VBoxModel",
            "_view_module": "@jupyter-widgets/controls",
            "_model_module_version": "1.5.0",
            "_view_count": null,
            "_view_module_version": "1.5.0",
            "box_style": "",
            "layout": "IPY_MODEL_67803fd971ea4f73a183f050914494b3",
            "_model_module": "@jupyter-widgets/controls",
            "children": [
              "IPY_MODEL_bfe8bec27fb04c108c3652ca12784262",
              "IPY_MODEL_42cb0f3611be4319a9da3e1deabbb6a7"
            ]
          }
        },
        "f4ae0c7b75684414a686032f53954d57": {
          "model_module": "@jupyter-widgets/base",
          "model_name": "LayoutModel",
          "state": {
            "_view_name": "LayoutView",
            "grid_template_rows": null,
            "right": null,
            "justify_content": null,
            "_view_module": "@jupyter-widgets/base",
            "overflow": null,
            "_model_module_version": "1.2.0",
            "_view_count": null,
            "flex_flow": null,
            "width": null,
            "min_width": null,
            "border": null,
            "align_items": null,
            "bottom": null,
            "_model_module": "@jupyter-widgets/base",
            "top": null,
            "grid_column": null,
            "overflow_y": null,
            "overflow_x": null,
            "grid_auto_flow": null,
            "grid_area": null,
            "grid_template_columns": null,
            "flex": null,
            "_model_name": "LayoutModel",
            "justify_items": null,
            "grid_row": null,
            "max_height": null,
            "align_content": null,
            "visibility": "visible",
            "align_self": null,
            "height": null,
            "min_height": null,
            "padding": null,
            "grid_auto_rows": null,
            "grid_gap": null,
            "max_width": null,
            "order": null,
            "_view_module_version": "1.2.0",
            "grid_template_areas": null,
            "object_position": null,
            "object_fit": null,
            "grid_auto_columns": null,
            "margin": "5px",
            "display": null,
            "left": null
          }
        },
        "8c1197d0f36c4f7897f7a3d86198d2a1": {
          "model_module": "@jupyter-widgets/controls",
          "model_name": "ImageModel",
          "state": {
            "_view_name": "ImageView",
            "_dom_classes": [],
            "_model_name": "ImageModel",
            "format": "png",
            "_view_module": "@jupyter-widgets/controls",
            "_model_module_version": "1.5.0",
            "_view_count": null,
            "width": "",
            "_view_module_version": "1.5.0",
            "layout": "IPY_MODEL_ed1dda4104614b0f80fb4a1ff0e015e2",
            "height": "",
            "_model_module": "@jupyter-widgets/controls"
          }
        },
        "a4bf8e4c4a9647c3affe85fef0b4909c": {
          "model_module": "@jupyter-widgets/controls",
          "model_name": "ButtonModel",
          "state": {
            "_view_name": "ButtonView",
            "style": "IPY_MODEL_867ca9e20c6a43dbac941d85fa1471d2",
            "_dom_classes": [],
            "description": "Delete",
            "_model_name": "ButtonModel",
            "button_style": "",
            "_view_module": "@jupyter-widgets/controls",
            "_model_module_version": "1.5.0",
            "tooltip": "",
            "_view_count": null,
            "disabled": false,
            "_view_module_version": "1.5.0",
            "layout": "IPY_MODEL_7a5094a71d664083bf3185f98e8502c1",
            "_model_module": "@jupyter-widgets/controls",
            "icon": ""
          }
        },
        "8a9825be70344ee8a34154603c927331": {
          "model_module": "@jupyter-widgets/base",
          "model_name": "LayoutModel",
          "state": {
            "_view_name": "LayoutView",
            "grid_template_rows": null,
            "right": null,
            "justify_content": null,
            "_view_module": "@jupyter-widgets/base",
            "overflow": null,
            "_model_module_version": "1.2.0",
            "_view_count": null,
            "flex_flow": null,
            "width": null,
            "min_width": null,
            "border": null,
            "align_items": null,
            "bottom": null,
            "_model_module": "@jupyter-widgets/base",
            "top": null,
            "grid_column": null,
            "overflow_y": null,
            "overflow_x": null,
            "grid_auto_flow": null,
            "grid_area": null,
            "grid_template_columns": null,
            "flex": null,
            "_model_name": "LayoutModel",
            "justify_items": null,
            "grid_row": null,
            "max_height": null,
            "align_content": null,
            "visibility": "visible",
            "align_self": null,
            "height": null,
            "min_height": null,
            "padding": null,
            "grid_auto_rows": null,
            "grid_gap": null,
            "max_width": null,
            "order": null,
            "_view_module_version": "1.2.0",
            "grid_template_areas": null,
            "object_position": null,
            "object_fit": null,
            "grid_auto_columns": null,
            "margin": "5px",
            "display": null,
            "left": null
          }
        },
        "917753e60b2244c5871a9fa8e0ffddef": {
          "model_module": "@jupyter-widgets/controls",
          "model_name": "ImageModel",
          "state": {
            "_view_name": "ImageView",
            "_dom_classes": [],
            "_model_name": "ImageModel",
            "format": "png",
            "_view_module": "@jupyter-widgets/controls",
            "_model_module_version": "1.5.0",
            "_view_count": null,
            "width": "",
            "_view_module_version": "1.5.0",
            "layout": "IPY_MODEL_caaf5c1f1313432c8e2e951152576f48",
            "height": "",
            "_model_module": "@jupyter-widgets/controls"
          }
        },
        "2373eb57abcd4894ad2ef9609adafdd2": {
          "model_module": "@jupyter-widgets/controls",
          "model_name": "ButtonModel",
          "state": {
            "_view_name": "ButtonView",
            "style": "IPY_MODEL_7b3e6a240404498496caf9a59de99f6e",
            "_dom_classes": [],
            "description": "Delete",
            "_model_name": "ButtonModel",
            "button_style": "",
            "_view_module": "@jupyter-widgets/controls",
            "_model_module_version": "1.5.0",
            "tooltip": "",
            "_view_count": null,
            "disabled": false,
            "_view_module_version": "1.5.0",
            "layout": "IPY_MODEL_e5645001544d4c85b9ade4a9f423d6ed",
            "_model_module": "@jupyter-widgets/controls",
            "icon": ""
          }
        },
        "6f5fb534e2e24f23a10d4971668ed532": {
          "model_module": "@jupyter-widgets/base",
          "model_name": "LayoutModel",
          "state": {
            "_view_name": "LayoutView",
            "grid_template_rows": null,
            "right": null,
            "justify_content": null,
            "_view_module": "@jupyter-widgets/base",
            "overflow": null,
            "_model_module_version": "1.2.0",
            "_view_count": null,
            "flex_flow": null,
            "width": null,
            "min_width": null,
            "border": null,
            "align_items": null,
            "bottom": null,
            "_model_module": "@jupyter-widgets/base",
            "top": null,
            "grid_column": null,
            "overflow_y": null,
            "overflow_x": null,
            "grid_auto_flow": null,
            "grid_area": null,
            "grid_template_columns": null,
            "flex": null,
            "_model_name": "LayoutModel",
            "justify_items": null,
            "grid_row": null,
            "max_height": null,
            "align_content": null,
            "visibility": "visible",
            "align_self": null,
            "height": null,
            "min_height": null,
            "padding": null,
            "grid_auto_rows": null,
            "grid_gap": null,
            "max_width": null,
            "order": null,
            "_view_module_version": "1.2.0",
            "grid_template_areas": null,
            "object_position": null,
            "object_fit": null,
            "grid_auto_columns": null,
            "margin": "5px",
            "display": null,
            "left": null
          }
        },
        "a76cb7ecf2074838ae53571c72a99294": {
          "model_module": "@jupyter-widgets/controls",
          "model_name": "ImageModel",
          "state": {
            "_view_name": "ImageView",
            "_dom_classes": [],
            "_model_name": "ImageModel",
            "format": "png",
            "_view_module": "@jupyter-widgets/controls",
            "_model_module_version": "1.5.0",
            "_view_count": null,
            "width": "",
            "_view_module_version": "1.5.0",
            "layout": "IPY_MODEL_8f271c637918459bb2a90c686bc9b0c2",
            "height": "",
            "_model_module": "@jupyter-widgets/controls"
          }
        },
        "1ab0f444f7564c9caa493e21498b7f2e": {
          "model_module": "@jupyter-widgets/controls",
          "model_name": "ButtonModel",
          "state": {
            "_view_name": "ButtonView",
            "style": "IPY_MODEL_829baa1e7ce446b19b98ac4069f00384",
            "_dom_classes": [],
            "description": "Delete",
            "_model_name": "ButtonModel",
            "button_style": "",
            "_view_module": "@jupyter-widgets/controls",
            "_model_module_version": "1.5.0",
            "tooltip": "",
            "_view_count": null,
            "disabled": false,
            "_view_module_version": "1.5.0",
            "layout": "IPY_MODEL_cde974767013423491814a5a4eaed5f4",
            "_model_module": "@jupyter-widgets/controls",
            "icon": ""
          }
        },
        "6ad7a7690c4d407fa560a0648938e43e": {
          "model_module": "@jupyter-widgets/base",
          "model_name": "LayoutModel",
          "state": {
            "_view_name": "LayoutView",
            "grid_template_rows": null,
            "right": null,
            "justify_content": null,
            "_view_module": "@jupyter-widgets/base",
            "overflow": null,
            "_model_module_version": "1.2.0",
            "_view_count": null,
            "flex_flow": null,
            "width": null,
            "min_width": null,
            "border": null,
            "align_items": null,
            "bottom": null,
            "_model_module": "@jupyter-widgets/base",
            "top": null,
            "grid_column": null,
            "overflow_y": null,
            "overflow_x": null,
            "grid_auto_flow": null,
            "grid_area": null,
            "grid_template_columns": null,
            "flex": null,
            "_model_name": "LayoutModel",
            "justify_items": null,
            "grid_row": null,
            "max_height": null,
            "align_content": null,
            "visibility": "visible",
            "align_self": null,
            "height": null,
            "min_height": null,
            "padding": null,
            "grid_auto_rows": null,
            "grid_gap": null,
            "max_width": null,
            "order": null,
            "_view_module_version": "1.2.0",
            "grid_template_areas": null,
            "object_position": null,
            "object_fit": null,
            "grid_auto_columns": null,
            "margin": "5px",
            "display": null,
            "left": null
          }
        },
        "86b69deb6a414537a5f5da628f77a8d4": {
          "model_module": "@jupyter-widgets/controls",
          "model_name": "ImageModel",
          "state": {
            "_view_name": "ImageView",
            "_dom_classes": [],
            "_model_name": "ImageModel",
            "format": "png",
            "_view_module": "@jupyter-widgets/controls",
            "_model_module_version": "1.5.0",
            "_view_count": null,
            "width": "",
            "_view_module_version": "1.5.0",
            "layout": "IPY_MODEL_a8a5927285d04b0896b1100d222f247c",
            "height": "",
            "_model_module": "@jupyter-widgets/controls"
          }
        },
        "89090a7b48214bf29746c7319db6f21e": {
          "model_module": "@jupyter-widgets/controls",
          "model_name": "ButtonModel",
          "state": {
            "_view_name": "ButtonView",
            "style": "IPY_MODEL_380461a799974d77885cb43b7a7f80d9",
            "_dom_classes": [],
            "description": "Delete",
            "_model_name": "ButtonModel",
            "button_style": "",
            "_view_module": "@jupyter-widgets/controls",
            "_model_module_version": "1.5.0",
            "tooltip": "",
            "_view_count": null,
            "disabled": false,
            "_view_module_version": "1.5.0",
            "layout": "IPY_MODEL_8938f1c311644bf9ac160df99b3dc98b",
            "_model_module": "@jupyter-widgets/controls",
            "icon": ""
          }
        },
        "e99ee25c188345eca1fddd284fe8e8aa": {
          "model_module": "@jupyter-widgets/base",
          "model_name": "LayoutModel",
          "state": {
            "_view_name": "LayoutView",
            "grid_template_rows": null,
            "right": null,
            "justify_content": null,
            "_view_module": "@jupyter-widgets/base",
            "overflow": null,
            "_model_module_version": "1.2.0",
            "_view_count": null,
            "flex_flow": null,
            "width": null,
            "min_width": null,
            "border": null,
            "align_items": null,
            "bottom": null,
            "_model_module": "@jupyter-widgets/base",
            "top": null,
            "grid_column": null,
            "overflow_y": null,
            "overflow_x": null,
            "grid_auto_flow": null,
            "grid_area": null,
            "grid_template_columns": null,
            "flex": null,
            "_model_name": "LayoutModel",
            "justify_items": null,
            "grid_row": null,
            "max_height": null,
            "align_content": null,
            "visibility": "visible",
            "align_self": null,
            "height": null,
            "min_height": null,
            "padding": null,
            "grid_auto_rows": null,
            "grid_gap": null,
            "max_width": null,
            "order": null,
            "_view_module_version": "1.2.0",
            "grid_template_areas": null,
            "object_position": null,
            "object_fit": null,
            "grid_auto_columns": null,
            "margin": "5px",
            "display": null,
            "left": null
          }
        },
        "3f4fd3bd0b7048cdbdc256f9c8665511": {
          "model_module": "@jupyter-widgets/controls",
          "model_name": "ImageModel",
          "state": {
            "_view_name": "ImageView",
            "_dom_classes": [],
            "_model_name": "ImageModel",
            "format": "png",
            "_view_module": "@jupyter-widgets/controls",
            "_model_module_version": "1.5.0",
            "_view_count": null,
            "width": "",
            "_view_module_version": "1.5.0",
            "layout": "IPY_MODEL_8a5546ded07041c7bc074b42cfc4e178",
            "height": "",
            "_model_module": "@jupyter-widgets/controls"
          }
        },
        "90dafdfdecae4aaf8ef0a483e5671c49": {
          "model_module": "@jupyter-widgets/controls",
          "model_name": "ButtonModel",
          "state": {
            "_view_name": "ButtonView",
            "style": "IPY_MODEL_a08d699ed8fb47fdb99ac03c61219bcb",
            "_dom_classes": [],
            "description": "Delete",
            "_model_name": "ButtonModel",
            "button_style": "",
            "_view_module": "@jupyter-widgets/controls",
            "_model_module_version": "1.5.0",
            "tooltip": "",
            "_view_count": null,
            "disabled": false,
            "_view_module_version": "1.5.0",
            "layout": "IPY_MODEL_c33c2450fe264c969e38e315c58305e8",
            "_model_module": "@jupyter-widgets/controls",
            "icon": ""
          }
        },
        "5a3b06bd9a0341b48ba0edf92a3288b1": {
          "model_module": "@jupyter-widgets/base",
          "model_name": "LayoutModel",
          "state": {
            "_view_name": "LayoutView",
            "grid_template_rows": null,
            "right": null,
            "justify_content": null,
            "_view_module": "@jupyter-widgets/base",
            "overflow": null,
            "_model_module_version": "1.2.0",
            "_view_count": null,
            "flex_flow": null,
            "width": null,
            "min_width": null,
            "border": null,
            "align_items": null,
            "bottom": null,
            "_model_module": "@jupyter-widgets/base",
            "top": null,
            "grid_column": null,
            "overflow_y": null,
            "overflow_x": null,
            "grid_auto_flow": null,
            "grid_area": null,
            "grid_template_columns": null,
            "flex": null,
            "_model_name": "LayoutModel",
            "justify_items": null,
            "grid_row": null,
            "max_height": null,
            "align_content": null,
            "visibility": "visible",
            "align_self": null,
            "height": null,
            "min_height": null,
            "padding": null,
            "grid_auto_rows": null,
            "grid_gap": null,
            "max_width": null,
            "order": null,
            "_view_module_version": "1.2.0",
            "grid_template_areas": null,
            "object_position": null,
            "object_fit": null,
            "grid_auto_columns": null,
            "margin": "5px",
            "display": null,
            "left": null
          }
        },
        "ebd6ade583ab4d18b81e5dc47a916973": {
          "model_module": "@jupyter-widgets/controls",
          "model_name": "ImageModel",
          "state": {
            "_view_name": "ImageView",
            "_dom_classes": [],
            "_model_name": "ImageModel",
            "format": "png",
            "_view_module": "@jupyter-widgets/controls",
            "_model_module_version": "1.5.0",
            "_view_count": null,
            "width": "",
            "_view_module_version": "1.5.0",
            "layout": "IPY_MODEL_8a59dd1ce10e48c9901b7a9acad40cac",
            "height": "",
            "_model_module": "@jupyter-widgets/controls"
          }
        },
        "77a0bfda95f14099b8bb767463b64993": {
          "model_module": "@jupyter-widgets/controls",
          "model_name": "ButtonModel",
          "state": {
            "_view_name": "ButtonView",
            "style": "IPY_MODEL_2ba3984d8cc0474393c1c48c057847a0",
            "_dom_classes": [],
            "description": "Delete",
            "_model_name": "ButtonModel",
            "button_style": "",
            "_view_module": "@jupyter-widgets/controls",
            "_model_module_version": "1.5.0",
            "tooltip": "",
            "_view_count": null,
            "disabled": false,
            "_view_module_version": "1.5.0",
            "layout": "IPY_MODEL_fe94cecaaef04dd38a0b7a209cd5e89e",
            "_model_module": "@jupyter-widgets/controls",
            "icon": ""
          }
        },
        "b161512968c341f489fb77a6d67a6965": {
          "model_module": "@jupyter-widgets/base",
          "model_name": "LayoutModel",
          "state": {
            "_view_name": "LayoutView",
            "grid_template_rows": null,
            "right": null,
            "justify_content": null,
            "_view_module": "@jupyter-widgets/base",
            "overflow": null,
            "_model_module_version": "1.2.0",
            "_view_count": null,
            "flex_flow": null,
            "width": null,
            "min_width": null,
            "border": null,
            "align_items": null,
            "bottom": null,
            "_model_module": "@jupyter-widgets/base",
            "top": null,
            "grid_column": null,
            "overflow_y": null,
            "overflow_x": null,
            "grid_auto_flow": null,
            "grid_area": null,
            "grid_template_columns": null,
            "flex": null,
            "_model_name": "LayoutModel",
            "justify_items": null,
            "grid_row": null,
            "max_height": null,
            "align_content": null,
            "visibility": "visible",
            "align_self": null,
            "height": null,
            "min_height": null,
            "padding": null,
            "grid_auto_rows": null,
            "grid_gap": null,
            "max_width": null,
            "order": null,
            "_view_module_version": "1.2.0",
            "grid_template_areas": null,
            "object_position": null,
            "object_fit": null,
            "grid_auto_columns": null,
            "margin": "5px",
            "display": null,
            "left": null
          }
        },
        "a5f141f258cf40a3a90b89cb6e163e6a": {
          "model_module": "@jupyter-widgets/controls",
          "model_name": "ImageModel",
          "state": {
            "_view_name": "ImageView",
            "_dom_classes": [],
            "_model_name": "ImageModel",
            "format": "png",
            "_view_module": "@jupyter-widgets/controls",
            "_model_module_version": "1.5.0",
            "_view_count": null,
            "width": "",
            "_view_module_version": "1.5.0",
            "layout": "IPY_MODEL_b71375a3ea3645e081ac35b9c2c24a25",
            "height": "",
            "_model_module": "@jupyter-widgets/controls"
          }
        },
        "f403caff396b4f109827f758bc1fd3f4": {
          "model_module": "@jupyter-widgets/controls",
          "model_name": "ButtonModel",
          "state": {
            "_view_name": "ButtonView",
            "style": "IPY_MODEL_30e680ce28c14546a9d55ed814b45013",
            "_dom_classes": [],
            "description": "Delete",
            "_model_name": "ButtonModel",
            "button_style": "",
            "_view_module": "@jupyter-widgets/controls",
            "_model_module_version": "1.5.0",
            "tooltip": "",
            "_view_count": null,
            "disabled": false,
            "_view_module_version": "1.5.0",
            "layout": "IPY_MODEL_a7c0562924f24b9e9b3fd3e97a985c99",
            "_model_module": "@jupyter-widgets/controls",
            "icon": ""
          }
        },
        "67803fd971ea4f73a183f050914494b3": {
          "model_module": "@jupyter-widgets/base",
          "model_name": "LayoutModel",
          "state": {
            "_view_name": "LayoutView",
            "grid_template_rows": null,
            "right": null,
            "justify_content": null,
            "_view_module": "@jupyter-widgets/base",
            "overflow": null,
            "_model_module_version": "1.2.0",
            "_view_count": null,
            "flex_flow": null,
            "width": null,
            "min_width": null,
            "border": null,
            "align_items": null,
            "bottom": null,
            "_model_module": "@jupyter-widgets/base",
            "top": null,
            "grid_column": null,
            "overflow_y": null,
            "overflow_x": null,
            "grid_auto_flow": null,
            "grid_area": null,
            "grid_template_columns": null,
            "flex": null,
            "_model_name": "LayoutModel",
            "justify_items": null,
            "grid_row": null,
            "max_height": null,
            "align_content": null,
            "visibility": "visible",
            "align_self": null,
            "height": null,
            "min_height": null,
            "padding": null,
            "grid_auto_rows": null,
            "grid_gap": null,
            "max_width": null,
            "order": null,
            "_view_module_version": "1.2.0",
            "grid_template_areas": null,
            "object_position": null,
            "object_fit": null,
            "grid_auto_columns": null,
            "margin": "5px",
            "display": null,
            "left": null
          }
        },
        "bfe8bec27fb04c108c3652ca12784262": {
          "model_module": "@jupyter-widgets/controls",
          "model_name": "ImageModel",
          "state": {
            "_view_name": "ImageView",
            "_dom_classes": [],
            "_model_name": "ImageModel",
            "format": "png",
            "_view_module": "@jupyter-widgets/controls",
            "_model_module_version": "1.5.0",
            "_view_count": null,
            "width": "",
            "_view_module_version": "1.5.0",
            "layout": "IPY_MODEL_78db4c852c5d4827a9ae6808eb673333",
            "height": "",
            "_model_module": "@jupyter-widgets/controls"
          }
        },
        "42cb0f3611be4319a9da3e1deabbb6a7": {
          "model_module": "@jupyter-widgets/controls",
          "model_name": "ButtonModel",
          "state": {
            "_view_name": "ButtonView",
            "style": "IPY_MODEL_4f8cb02461fd43a49e9f09b0cfac5ec3",
            "_dom_classes": [],
            "description": "Delete",
            "_model_name": "ButtonModel",
            "button_style": "",
            "_view_module": "@jupyter-widgets/controls",
            "_model_module_version": "1.5.0",
            "tooltip": "",
            "_view_count": null,
            "disabled": false,
            "_view_module_version": "1.5.0",
            "layout": "IPY_MODEL_96c38ad695a34578b142bee017435955",
            "_model_module": "@jupyter-widgets/controls",
            "icon": ""
          }
        },
        "ed1dda4104614b0f80fb4a1ff0e015e2": {
          "model_module": "@jupyter-widgets/base",
          "model_name": "LayoutModel",
          "state": {
            "_view_name": "LayoutView",
            "grid_template_rows": null,
            "right": null,
            "justify_content": null,
            "_view_module": "@jupyter-widgets/base",
            "overflow": null,
            "_model_module_version": "1.2.0",
            "_view_count": null,
            "flex_flow": null,
            "width": "150px",
            "min_width": null,
            "border": null,
            "align_items": null,
            "bottom": null,
            "_model_module": "@jupyter-widgets/base",
            "top": null,
            "grid_column": null,
            "overflow_y": null,
            "overflow_x": null,
            "grid_auto_flow": null,
            "grid_area": null,
            "grid_template_columns": null,
            "flex": null,
            "_model_name": "LayoutModel",
            "justify_items": null,
            "grid_row": null,
            "max_height": null,
            "align_content": null,
            "visibility": null,
            "align_self": null,
            "height": null,
            "min_height": null,
            "padding": null,
            "grid_auto_rows": null,
            "grid_gap": null,
            "max_width": null,
            "order": null,
            "_view_module_version": "1.2.0",
            "grid_template_areas": null,
            "object_position": null,
            "object_fit": null,
            "grid_auto_columns": null,
            "margin": null,
            "display": null,
            "left": null
          }
        },
        "867ca9e20c6a43dbac941d85fa1471d2": {
          "model_module": "@jupyter-widgets/controls",
          "model_name": "ButtonStyleModel",
          "state": {
            "_view_name": "StyleView",
            "_model_name": "ButtonStyleModel",
            "_view_module": "@jupyter-widgets/base",
            "_model_module_version": "1.5.0",
            "_view_count": null,
            "button_color": null,
            "font_weight": "",
            "_view_module_version": "1.2.0",
            "_model_module": "@jupyter-widgets/controls"
          }
        },
        "7a5094a71d664083bf3185f98e8502c1": {
          "model_module": "@jupyter-widgets/base",
          "model_name": "LayoutModel",
          "state": {
            "_view_name": "LayoutView",
            "grid_template_rows": null,
            "right": null,
            "justify_content": null,
            "_view_module": "@jupyter-widgets/base",
            "overflow": null,
            "_model_module_version": "1.2.0",
            "_view_count": null,
            "flex_flow": null,
            "width": null,
            "min_width": null,
            "border": null,
            "align_items": null,
            "bottom": null,
            "_model_module": "@jupyter-widgets/base",
            "top": null,
            "grid_column": null,
            "overflow_y": null,
            "overflow_x": null,
            "grid_auto_flow": null,
            "grid_area": null,
            "grid_template_columns": null,
            "flex": null,
            "_model_name": "LayoutModel",
            "justify_items": null,
            "grid_row": null,
            "max_height": null,
            "align_content": null,
            "visibility": null,
            "align_self": null,
            "height": null,
            "min_height": null,
            "padding": null,
            "grid_auto_rows": null,
            "grid_gap": null,
            "max_width": null,
            "order": null,
            "_view_module_version": "1.2.0",
            "grid_template_areas": null,
            "object_position": null,
            "object_fit": null,
            "grid_auto_columns": null,
            "margin": null,
            "display": null,
            "left": null
          }
        },
        "caaf5c1f1313432c8e2e951152576f48": {
          "model_module": "@jupyter-widgets/base",
          "model_name": "LayoutModel",
          "state": {
            "_view_name": "LayoutView",
            "grid_template_rows": null,
            "right": null,
            "justify_content": null,
            "_view_module": "@jupyter-widgets/base",
            "overflow": null,
            "_model_module_version": "1.2.0",
            "_view_count": null,
            "flex_flow": null,
            "width": "150px",
            "min_width": null,
            "border": null,
            "align_items": null,
            "bottom": null,
            "_model_module": "@jupyter-widgets/base",
            "top": null,
            "grid_column": null,
            "overflow_y": null,
            "overflow_x": null,
            "grid_auto_flow": null,
            "grid_area": null,
            "grid_template_columns": null,
            "flex": null,
            "_model_name": "LayoutModel",
            "justify_items": null,
            "grid_row": null,
            "max_height": null,
            "align_content": null,
            "visibility": null,
            "align_self": null,
            "height": null,
            "min_height": null,
            "padding": null,
            "grid_auto_rows": null,
            "grid_gap": null,
            "max_width": null,
            "order": null,
            "_view_module_version": "1.2.0",
            "grid_template_areas": null,
            "object_position": null,
            "object_fit": null,
            "grid_auto_columns": null,
            "margin": null,
            "display": null,
            "left": null
          }
        },
        "7b3e6a240404498496caf9a59de99f6e": {
          "model_module": "@jupyter-widgets/controls",
          "model_name": "ButtonStyleModel",
          "state": {
            "_view_name": "StyleView",
            "_model_name": "ButtonStyleModel",
            "_view_module": "@jupyter-widgets/base",
            "_model_module_version": "1.5.0",
            "_view_count": null,
            "button_color": null,
            "font_weight": "",
            "_view_module_version": "1.2.0",
            "_model_module": "@jupyter-widgets/controls"
          }
        },
        "e5645001544d4c85b9ade4a9f423d6ed": {
          "model_module": "@jupyter-widgets/base",
          "model_name": "LayoutModel",
          "state": {
            "_view_name": "LayoutView",
            "grid_template_rows": null,
            "right": null,
            "justify_content": null,
            "_view_module": "@jupyter-widgets/base",
            "overflow": null,
            "_model_module_version": "1.2.0",
            "_view_count": null,
            "flex_flow": null,
            "width": null,
            "min_width": null,
            "border": null,
            "align_items": null,
            "bottom": null,
            "_model_module": "@jupyter-widgets/base",
            "top": null,
            "grid_column": null,
            "overflow_y": null,
            "overflow_x": null,
            "grid_auto_flow": null,
            "grid_area": null,
            "grid_template_columns": null,
            "flex": null,
            "_model_name": "LayoutModel",
            "justify_items": null,
            "grid_row": null,
            "max_height": null,
            "align_content": null,
            "visibility": null,
            "align_self": null,
            "height": null,
            "min_height": null,
            "padding": null,
            "grid_auto_rows": null,
            "grid_gap": null,
            "max_width": null,
            "order": null,
            "_view_module_version": "1.2.0",
            "grid_template_areas": null,
            "object_position": null,
            "object_fit": null,
            "grid_auto_columns": null,
            "margin": null,
            "display": null,
            "left": null
          }
        },
        "8f271c637918459bb2a90c686bc9b0c2": {
          "model_module": "@jupyter-widgets/base",
          "model_name": "LayoutModel",
          "state": {
            "_view_name": "LayoutView",
            "grid_template_rows": null,
            "right": null,
            "justify_content": null,
            "_view_module": "@jupyter-widgets/base",
            "overflow": null,
            "_model_module_version": "1.2.0",
            "_view_count": null,
            "flex_flow": null,
            "width": "150px",
            "min_width": null,
            "border": null,
            "align_items": null,
            "bottom": null,
            "_model_module": "@jupyter-widgets/base",
            "top": null,
            "grid_column": null,
            "overflow_y": null,
            "overflow_x": null,
            "grid_auto_flow": null,
            "grid_area": null,
            "grid_template_columns": null,
            "flex": null,
            "_model_name": "LayoutModel",
            "justify_items": null,
            "grid_row": null,
            "max_height": null,
            "align_content": null,
            "visibility": null,
            "align_self": null,
            "height": null,
            "min_height": null,
            "padding": null,
            "grid_auto_rows": null,
            "grid_gap": null,
            "max_width": null,
            "order": null,
            "_view_module_version": "1.2.0",
            "grid_template_areas": null,
            "object_position": null,
            "object_fit": null,
            "grid_auto_columns": null,
            "margin": null,
            "display": null,
            "left": null
          }
        },
        "829baa1e7ce446b19b98ac4069f00384": {
          "model_module": "@jupyter-widgets/controls",
          "model_name": "ButtonStyleModel",
          "state": {
            "_view_name": "StyleView",
            "_model_name": "ButtonStyleModel",
            "_view_module": "@jupyter-widgets/base",
            "_model_module_version": "1.5.0",
            "_view_count": null,
            "button_color": null,
            "font_weight": "",
            "_view_module_version": "1.2.0",
            "_model_module": "@jupyter-widgets/controls"
          }
        },
        "cde974767013423491814a5a4eaed5f4": {
          "model_module": "@jupyter-widgets/base",
          "model_name": "LayoutModel",
          "state": {
            "_view_name": "LayoutView",
            "grid_template_rows": null,
            "right": null,
            "justify_content": null,
            "_view_module": "@jupyter-widgets/base",
            "overflow": null,
            "_model_module_version": "1.2.0",
            "_view_count": null,
            "flex_flow": null,
            "width": null,
            "min_width": null,
            "border": null,
            "align_items": null,
            "bottom": null,
            "_model_module": "@jupyter-widgets/base",
            "top": null,
            "grid_column": null,
            "overflow_y": null,
            "overflow_x": null,
            "grid_auto_flow": null,
            "grid_area": null,
            "grid_template_columns": null,
            "flex": null,
            "_model_name": "LayoutModel",
            "justify_items": null,
            "grid_row": null,
            "max_height": null,
            "align_content": null,
            "visibility": null,
            "align_self": null,
            "height": null,
            "min_height": null,
            "padding": null,
            "grid_auto_rows": null,
            "grid_gap": null,
            "max_width": null,
            "order": null,
            "_view_module_version": "1.2.0",
            "grid_template_areas": null,
            "object_position": null,
            "object_fit": null,
            "grid_auto_columns": null,
            "margin": null,
            "display": null,
            "left": null
          }
        },
        "a8a5927285d04b0896b1100d222f247c": {
          "model_module": "@jupyter-widgets/base",
          "model_name": "LayoutModel",
          "state": {
            "_view_name": "LayoutView",
            "grid_template_rows": null,
            "right": null,
            "justify_content": null,
            "_view_module": "@jupyter-widgets/base",
            "overflow": null,
            "_model_module_version": "1.2.0",
            "_view_count": null,
            "flex_flow": null,
            "width": "150px",
            "min_width": null,
            "border": null,
            "align_items": null,
            "bottom": null,
            "_model_module": "@jupyter-widgets/base",
            "top": null,
            "grid_column": null,
            "overflow_y": null,
            "overflow_x": null,
            "grid_auto_flow": null,
            "grid_area": null,
            "grid_template_columns": null,
            "flex": null,
            "_model_name": "LayoutModel",
            "justify_items": null,
            "grid_row": null,
            "max_height": null,
            "align_content": null,
            "visibility": null,
            "align_self": null,
            "height": null,
            "min_height": null,
            "padding": null,
            "grid_auto_rows": null,
            "grid_gap": null,
            "max_width": null,
            "order": null,
            "_view_module_version": "1.2.0",
            "grid_template_areas": null,
            "object_position": null,
            "object_fit": null,
            "grid_auto_columns": null,
            "margin": null,
            "display": null,
            "left": null
          }
        },
        "380461a799974d77885cb43b7a7f80d9": {
          "model_module": "@jupyter-widgets/controls",
          "model_name": "ButtonStyleModel",
          "state": {
            "_view_name": "StyleView",
            "_model_name": "ButtonStyleModel",
            "_view_module": "@jupyter-widgets/base",
            "_model_module_version": "1.5.0",
            "_view_count": null,
            "button_color": null,
            "font_weight": "",
            "_view_module_version": "1.2.0",
            "_model_module": "@jupyter-widgets/controls"
          }
        },
        "8938f1c311644bf9ac160df99b3dc98b": {
          "model_module": "@jupyter-widgets/base",
          "model_name": "LayoutModel",
          "state": {
            "_view_name": "LayoutView",
            "grid_template_rows": null,
            "right": null,
            "justify_content": null,
            "_view_module": "@jupyter-widgets/base",
            "overflow": null,
            "_model_module_version": "1.2.0",
            "_view_count": null,
            "flex_flow": null,
            "width": null,
            "min_width": null,
            "border": null,
            "align_items": null,
            "bottom": null,
            "_model_module": "@jupyter-widgets/base",
            "top": null,
            "grid_column": null,
            "overflow_y": null,
            "overflow_x": null,
            "grid_auto_flow": null,
            "grid_area": null,
            "grid_template_columns": null,
            "flex": null,
            "_model_name": "LayoutModel",
            "justify_items": null,
            "grid_row": null,
            "max_height": null,
            "align_content": null,
            "visibility": null,
            "align_self": null,
            "height": null,
            "min_height": null,
            "padding": null,
            "grid_auto_rows": null,
            "grid_gap": null,
            "max_width": null,
            "order": null,
            "_view_module_version": "1.2.0",
            "grid_template_areas": null,
            "object_position": null,
            "object_fit": null,
            "grid_auto_columns": null,
            "margin": null,
            "display": null,
            "left": null
          }
        },
        "8a5546ded07041c7bc074b42cfc4e178": {
          "model_module": "@jupyter-widgets/base",
          "model_name": "LayoutModel",
          "state": {
            "_view_name": "LayoutView",
            "grid_template_rows": null,
            "right": null,
            "justify_content": null,
            "_view_module": "@jupyter-widgets/base",
            "overflow": null,
            "_model_module_version": "1.2.0",
            "_view_count": null,
            "flex_flow": null,
            "width": "150px",
            "min_width": null,
            "border": null,
            "align_items": null,
            "bottom": null,
            "_model_module": "@jupyter-widgets/base",
            "top": null,
            "grid_column": null,
            "overflow_y": null,
            "overflow_x": null,
            "grid_auto_flow": null,
            "grid_area": null,
            "grid_template_columns": null,
            "flex": null,
            "_model_name": "LayoutModel",
            "justify_items": null,
            "grid_row": null,
            "max_height": null,
            "align_content": null,
            "visibility": null,
            "align_self": null,
            "height": null,
            "min_height": null,
            "padding": null,
            "grid_auto_rows": null,
            "grid_gap": null,
            "max_width": null,
            "order": null,
            "_view_module_version": "1.2.0",
            "grid_template_areas": null,
            "object_position": null,
            "object_fit": null,
            "grid_auto_columns": null,
            "margin": null,
            "display": null,
            "left": null
          }
        },
        "a08d699ed8fb47fdb99ac03c61219bcb": {
          "model_module": "@jupyter-widgets/controls",
          "model_name": "ButtonStyleModel",
          "state": {
            "_view_name": "StyleView",
            "_model_name": "ButtonStyleModel",
            "_view_module": "@jupyter-widgets/base",
            "_model_module_version": "1.5.0",
            "_view_count": null,
            "button_color": null,
            "font_weight": "",
            "_view_module_version": "1.2.0",
            "_model_module": "@jupyter-widgets/controls"
          }
        },
        "c33c2450fe264c969e38e315c58305e8": {
          "model_module": "@jupyter-widgets/base",
          "model_name": "LayoutModel",
          "state": {
            "_view_name": "LayoutView",
            "grid_template_rows": null,
            "right": null,
            "justify_content": null,
            "_view_module": "@jupyter-widgets/base",
            "overflow": null,
            "_model_module_version": "1.2.0",
            "_view_count": null,
            "flex_flow": null,
            "width": null,
            "min_width": null,
            "border": null,
            "align_items": null,
            "bottom": null,
            "_model_module": "@jupyter-widgets/base",
            "top": null,
            "grid_column": null,
            "overflow_y": null,
            "overflow_x": null,
            "grid_auto_flow": null,
            "grid_area": null,
            "grid_template_columns": null,
            "flex": null,
            "_model_name": "LayoutModel",
            "justify_items": null,
            "grid_row": null,
            "max_height": null,
            "align_content": null,
            "visibility": null,
            "align_self": null,
            "height": null,
            "min_height": null,
            "padding": null,
            "grid_auto_rows": null,
            "grid_gap": null,
            "max_width": null,
            "order": null,
            "_view_module_version": "1.2.0",
            "grid_template_areas": null,
            "object_position": null,
            "object_fit": null,
            "grid_auto_columns": null,
            "margin": null,
            "display": null,
            "left": null
          }
        },
        "8a59dd1ce10e48c9901b7a9acad40cac": {
          "model_module": "@jupyter-widgets/base",
          "model_name": "LayoutModel",
          "state": {
            "_view_name": "LayoutView",
            "grid_template_rows": null,
            "right": null,
            "justify_content": null,
            "_view_module": "@jupyter-widgets/base",
            "overflow": null,
            "_model_module_version": "1.2.0",
            "_view_count": null,
            "flex_flow": null,
            "width": "150px",
            "min_width": null,
            "border": null,
            "align_items": null,
            "bottom": null,
            "_model_module": "@jupyter-widgets/base",
            "top": null,
            "grid_column": null,
            "overflow_y": null,
            "overflow_x": null,
            "grid_auto_flow": null,
            "grid_area": null,
            "grid_template_columns": null,
            "flex": null,
            "_model_name": "LayoutModel",
            "justify_items": null,
            "grid_row": null,
            "max_height": null,
            "align_content": null,
            "visibility": null,
            "align_self": null,
            "height": null,
            "min_height": null,
            "padding": null,
            "grid_auto_rows": null,
            "grid_gap": null,
            "max_width": null,
            "order": null,
            "_view_module_version": "1.2.0",
            "grid_template_areas": null,
            "object_position": null,
            "object_fit": null,
            "grid_auto_columns": null,
            "margin": null,
            "display": null,
            "left": null
          }
        },
        "2ba3984d8cc0474393c1c48c057847a0": {
          "model_module": "@jupyter-widgets/controls",
          "model_name": "ButtonStyleModel",
          "state": {
            "_view_name": "StyleView",
            "_model_name": "ButtonStyleModel",
            "_view_module": "@jupyter-widgets/base",
            "_model_module_version": "1.5.0",
            "_view_count": null,
            "button_color": null,
            "font_weight": "",
            "_view_module_version": "1.2.0",
            "_model_module": "@jupyter-widgets/controls"
          }
        },
        "fe94cecaaef04dd38a0b7a209cd5e89e": {
          "model_module": "@jupyter-widgets/base",
          "model_name": "LayoutModel",
          "state": {
            "_view_name": "LayoutView",
            "grid_template_rows": null,
            "right": null,
            "justify_content": null,
            "_view_module": "@jupyter-widgets/base",
            "overflow": null,
            "_model_module_version": "1.2.0",
            "_view_count": null,
            "flex_flow": null,
            "width": null,
            "min_width": null,
            "border": null,
            "align_items": null,
            "bottom": null,
            "_model_module": "@jupyter-widgets/base",
            "top": null,
            "grid_column": null,
            "overflow_y": null,
            "overflow_x": null,
            "grid_auto_flow": null,
            "grid_area": null,
            "grid_template_columns": null,
            "flex": null,
            "_model_name": "LayoutModel",
            "justify_items": null,
            "grid_row": null,
            "max_height": null,
            "align_content": null,
            "visibility": null,
            "align_self": null,
            "height": null,
            "min_height": null,
            "padding": null,
            "grid_auto_rows": null,
            "grid_gap": null,
            "max_width": null,
            "order": null,
            "_view_module_version": "1.2.0",
            "grid_template_areas": null,
            "object_position": null,
            "object_fit": null,
            "grid_auto_columns": null,
            "margin": null,
            "display": null,
            "left": null
          }
        },
        "b71375a3ea3645e081ac35b9c2c24a25": {
          "model_module": "@jupyter-widgets/base",
          "model_name": "LayoutModel",
          "state": {
            "_view_name": "LayoutView",
            "grid_template_rows": null,
            "right": null,
            "justify_content": null,
            "_view_module": "@jupyter-widgets/base",
            "overflow": null,
            "_model_module_version": "1.2.0",
            "_view_count": null,
            "flex_flow": null,
            "width": "150px",
            "min_width": null,
            "border": null,
            "align_items": null,
            "bottom": null,
            "_model_module": "@jupyter-widgets/base",
            "top": null,
            "grid_column": null,
            "overflow_y": null,
            "overflow_x": null,
            "grid_auto_flow": null,
            "grid_area": null,
            "grid_template_columns": null,
            "flex": null,
            "_model_name": "LayoutModel",
            "justify_items": null,
            "grid_row": null,
            "max_height": null,
            "align_content": null,
            "visibility": null,
            "align_self": null,
            "height": null,
            "min_height": null,
            "padding": null,
            "grid_auto_rows": null,
            "grid_gap": null,
            "max_width": null,
            "order": null,
            "_view_module_version": "1.2.0",
            "grid_template_areas": null,
            "object_position": null,
            "object_fit": null,
            "grid_auto_columns": null,
            "margin": null,
            "display": null,
            "left": null
          }
        },
        "30e680ce28c14546a9d55ed814b45013": {
          "model_module": "@jupyter-widgets/controls",
          "model_name": "ButtonStyleModel",
          "state": {
            "_view_name": "StyleView",
            "_model_name": "ButtonStyleModel",
            "_view_module": "@jupyter-widgets/base",
            "_model_module_version": "1.5.0",
            "_view_count": null,
            "button_color": null,
            "font_weight": "",
            "_view_module_version": "1.2.0",
            "_model_module": "@jupyter-widgets/controls"
          }
        },
        "a7c0562924f24b9e9b3fd3e97a985c99": {
          "model_module": "@jupyter-widgets/base",
          "model_name": "LayoutModel",
          "state": {
            "_view_name": "LayoutView",
            "grid_template_rows": null,
            "right": null,
            "justify_content": null,
            "_view_module": "@jupyter-widgets/base",
            "overflow": null,
            "_model_module_version": "1.2.0",
            "_view_count": null,
            "flex_flow": null,
            "width": null,
            "min_width": null,
            "border": null,
            "align_items": null,
            "bottom": null,
            "_model_module": "@jupyter-widgets/base",
            "top": null,
            "grid_column": null,
            "overflow_y": null,
            "overflow_x": null,
            "grid_auto_flow": null,
            "grid_area": null,
            "grid_template_columns": null,
            "flex": null,
            "_model_name": "LayoutModel",
            "justify_items": null,
            "grid_row": null,
            "max_height": null,
            "align_content": null,
            "visibility": null,
            "align_self": null,
            "height": null,
            "min_height": null,
            "padding": null,
            "grid_auto_rows": null,
            "grid_gap": null,
            "max_width": null,
            "order": null,
            "_view_module_version": "1.2.0",
            "grid_template_areas": null,
            "object_position": null,
            "object_fit": null,
            "grid_auto_columns": null,
            "margin": null,
            "display": null,
            "left": null
          }
        },
        "78db4c852c5d4827a9ae6808eb673333": {
          "model_module": "@jupyter-widgets/base",
          "model_name": "LayoutModel",
          "state": {
            "_view_name": "LayoutView",
            "grid_template_rows": null,
            "right": null,
            "justify_content": null,
            "_view_module": "@jupyter-widgets/base",
            "overflow": null,
            "_model_module_version": "1.2.0",
            "_view_count": null,
            "flex_flow": null,
            "width": "150px",
            "min_width": null,
            "border": null,
            "align_items": null,
            "bottom": null,
            "_model_module": "@jupyter-widgets/base",
            "top": null,
            "grid_column": null,
            "overflow_y": null,
            "overflow_x": null,
            "grid_auto_flow": null,
            "grid_area": null,
            "grid_template_columns": null,
            "flex": null,
            "_model_name": "LayoutModel",
            "justify_items": null,
            "grid_row": null,
            "max_height": null,
            "align_content": null,
            "visibility": null,
            "align_self": null,
            "height": null,
            "min_height": null,
            "padding": null,
            "grid_auto_rows": null,
            "grid_gap": null,
            "max_width": null,
            "order": null,
            "_view_module_version": "1.2.0",
            "grid_template_areas": null,
            "object_position": null,
            "object_fit": null,
            "grid_auto_columns": null,
            "margin": null,
            "display": null,
            "left": null
          }
        },
        "4f8cb02461fd43a49e9f09b0cfac5ec3": {
          "model_module": "@jupyter-widgets/controls",
          "model_name": "ButtonStyleModel",
          "state": {
            "_view_name": "StyleView",
            "_model_name": "ButtonStyleModel",
            "_view_module": "@jupyter-widgets/base",
            "_model_module_version": "1.5.0",
            "_view_count": null,
            "button_color": null,
            "font_weight": "",
            "_view_module_version": "1.2.0",
            "_model_module": "@jupyter-widgets/controls"
          }
        },
        "96c38ad695a34578b142bee017435955": {
          "model_module": "@jupyter-widgets/base",
          "model_name": "LayoutModel",
          "state": {
            "_view_name": "LayoutView",
            "grid_template_rows": null,
            "right": null,
            "justify_content": null,
            "_view_module": "@jupyter-widgets/base",
            "overflow": null,
            "_model_module_version": "1.2.0",
            "_view_count": null,
            "flex_flow": null,
            "width": null,
            "min_width": null,
            "border": null,
            "align_items": null,
            "bottom": null,
            "_model_module": "@jupyter-widgets/base",
            "top": null,
            "grid_column": null,
            "overflow_y": null,
            "overflow_x": null,
            "grid_auto_flow": null,
            "grid_area": null,
            "grid_template_columns": null,
            "flex": null,
            "_model_name": "LayoutModel",
            "justify_items": null,
            "grid_row": null,
            "max_height": null,
            "align_content": null,
            "visibility": null,
            "align_self": null,
            "height": null,
            "min_height": null,
            "padding": null,
            "grid_auto_rows": null,
            "grid_gap": null,
            "max_width": null,
            "order": null,
            "_view_module_version": "1.2.0",
            "grid_template_areas": null,
            "object_position": null,
            "object_fit": null,
            "grid_auto_columns": null,
            "margin": null,
            "display": null,
            "left": null
          }
        },
        "2a6ae57b13f9429fa42cbff5226edb45": {
          "model_module": "@jupyter-widgets/controls",
          "model_name": "HBoxModel",
          "state": {
            "_view_name": "HBoxView",
            "_dom_classes": [],
            "_model_name": "HBoxModel",
            "_view_module": "@jupyter-widgets/controls",
            "_model_module_version": "1.5.0",
            "_view_count": null,
            "_view_module_version": "1.5.0",
            "box_style": "",
            "layout": "IPY_MODEL_467f6f7ea74447259ec2952dca72b33d",
            "_model_module": "@jupyter-widgets/controls",
            "children": [
              "IPY_MODEL_f73c4b55130e496a905ca644b8e43d63",
              "IPY_MODEL_fa7e0d91125b4af1a4cf1562986c598f"
            ]
          }
        },
        "467f6f7ea74447259ec2952dca72b33d": {
          "model_module": "@jupyter-widgets/base",
          "model_name": "LayoutModel",
          "state": {
            "_view_name": "LayoutView",
            "grid_template_rows": null,
            "right": null,
            "justify_content": null,
            "_view_module": "@jupyter-widgets/base",
            "overflow": null,
            "_model_module_version": "1.2.0",
            "_view_count": null,
            "flex_flow": null,
            "width": null,
            "min_width": null,
            "border": null,
            "align_items": null,
            "bottom": null,
            "_model_module": "@jupyter-widgets/base",
            "top": null,
            "grid_column": null,
            "overflow_y": null,
            "overflow_x": null,
            "grid_auto_flow": null,
            "grid_area": null,
            "grid_template_columns": null,
            "flex": null,
            "_model_name": "LayoutModel",
            "justify_items": null,
            "grid_row": null,
            "max_height": null,
            "align_content": null,
            "visibility": null,
            "align_self": null,
            "height": null,
            "min_height": null,
            "padding": null,
            "grid_auto_rows": null,
            "grid_gap": null,
            "max_width": null,
            "order": null,
            "_view_module_version": "1.2.0",
            "grid_template_areas": null,
            "object_position": null,
            "object_fit": null,
            "grid_auto_columns": null,
            "margin": null,
            "display": null,
            "left": null
          }
        },
        "f73c4b55130e496a905ca644b8e43d63": {
          "model_module": "@jupyter-widgets/controls",
          "model_name": "FloatProgressModel",
          "state": {
            "_view_name": "ProgressView",
            "style": "IPY_MODEL_cc32cb218e0642dc92a835a340015273",
            "_dom_classes": [],
            "description": "100%",
            "_model_name": "FloatProgressModel",
            "bar_style": "success",
            "max": 46827520,
            "_view_module": "@jupyter-widgets/controls",
            "_model_module_version": "1.5.0",
            "value": 46827520,
            "_view_count": null,
            "_view_module_version": "1.5.0",
            "orientation": "horizontal",
            "min": 0,
            "description_tooltip": null,
            "_model_module": "@jupyter-widgets/controls",
            "layout": "IPY_MODEL_4a31047e143f480f8f38d15c9b83124d"
          }
        },
        "fa7e0d91125b4af1a4cf1562986c598f": {
          "model_module": "@jupyter-widgets/controls",
          "model_name": "HTMLModel",
          "state": {
            "_view_name": "HTMLView",
            "style": "IPY_MODEL_7ed0bba6806344d0b718d0062a6e9301",
            "_dom_classes": [],
            "description": "",
            "_model_name": "HTMLModel",
            "placeholder": "​",
            "_view_module": "@jupyter-widgets/controls",
            "_model_module_version": "1.5.0",
            "value": " 44.7M/44.7M [00:00&lt;00:00, 103MB/s]",
            "_view_count": null,
            "_view_module_version": "1.5.0",
            "description_tooltip": null,
            "_model_module": "@jupyter-widgets/controls",
            "layout": "IPY_MODEL_6a31723f9c1d4920bab4a7d2c66173ef"
          }
        },
        "cc32cb218e0642dc92a835a340015273": {
          "model_module": "@jupyter-widgets/controls",
          "model_name": "ProgressStyleModel",
          "state": {
            "_view_name": "StyleView",
            "_model_name": "ProgressStyleModel",
            "description_width": "initial",
            "_view_module": "@jupyter-widgets/base",
            "_model_module_version": "1.5.0",
            "_view_count": null,
            "_view_module_version": "1.2.0",
            "bar_color": null,
            "_model_module": "@jupyter-widgets/controls"
          }
        },
        "4a31047e143f480f8f38d15c9b83124d": {
          "model_module": "@jupyter-widgets/base",
          "model_name": "LayoutModel",
          "state": {
            "_view_name": "LayoutView",
            "grid_template_rows": null,
            "right": null,
            "justify_content": null,
            "_view_module": "@jupyter-widgets/base",
            "overflow": null,
            "_model_module_version": "1.2.0",
            "_view_count": null,
            "flex_flow": null,
            "width": null,
            "min_width": null,
            "border": null,
            "align_items": null,
            "bottom": null,
            "_model_module": "@jupyter-widgets/base",
            "top": null,
            "grid_column": null,
            "overflow_y": null,
            "overflow_x": null,
            "grid_auto_flow": null,
            "grid_area": null,
            "grid_template_columns": null,
            "flex": null,
            "_model_name": "LayoutModel",
            "justify_items": null,
            "grid_row": null,
            "max_height": null,
            "align_content": null,
            "visibility": null,
            "align_self": null,
            "height": null,
            "min_height": null,
            "padding": null,
            "grid_auto_rows": null,
            "grid_gap": null,
            "max_width": null,
            "order": null,
            "_view_module_version": "1.2.0",
            "grid_template_areas": null,
            "object_position": null,
            "object_fit": null,
            "grid_auto_columns": null,
            "margin": null,
            "display": null,
            "left": null
          }
        },
        "7ed0bba6806344d0b718d0062a6e9301": {
          "model_module": "@jupyter-widgets/controls",
          "model_name": "DescriptionStyleModel",
          "state": {
            "_view_name": "StyleView",
            "_model_name": "DescriptionStyleModel",
            "description_width": "",
            "_view_module": "@jupyter-widgets/base",
            "_model_module_version": "1.5.0",
            "_view_count": null,
            "_view_module_version": "1.2.0",
            "_model_module": "@jupyter-widgets/controls"
          }
        },
        "6a31723f9c1d4920bab4a7d2c66173ef": {
          "model_module": "@jupyter-widgets/base",
          "model_name": "LayoutModel",
          "state": {
            "_view_name": "LayoutView",
            "grid_template_rows": null,
            "right": null,
            "justify_content": null,
            "_view_module": "@jupyter-widgets/base",
            "overflow": null,
            "_model_module_version": "1.2.0",
            "_view_count": null,
            "flex_flow": null,
            "width": null,
            "min_width": null,
            "border": null,
            "align_items": null,
            "bottom": null,
            "_model_module": "@jupyter-widgets/base",
            "top": null,
            "grid_column": null,
            "overflow_y": null,
            "overflow_x": null,
            "grid_auto_flow": null,
            "grid_area": null,
            "grid_template_columns": null,
            "flex": null,
            "_model_name": "LayoutModel",
            "justify_items": null,
            "grid_row": null,
            "max_height": null,
            "align_content": null,
            "visibility": null,
            "align_self": null,
            "height": null,
            "min_height": null,
            "padding": null,
            "grid_auto_rows": null,
            "grid_gap": null,
            "max_width": null,
            "order": null,
            "_view_module_version": "1.2.0",
            "grid_template_areas": null,
            "object_position": null,
            "object_fit": null,
            "grid_auto_columns": null,
            "margin": null,
            "display": null,
            "left": null
          }
        },
        "52660296349d47cfa7e256144d462122": {
          "model_module": "@jupyter-widgets/controls",
          "model_name": "FileUploadModel",
          "state": {
            "_view_name": "FileUploadView",
            "_counter": 1,
            "style": "IPY_MODEL_84c95dc4aaed491785aec721f5018c62",
            "_dom_classes": [],
            "description": "Upload",
            "multiple": false,
            "_model_name": "FileUploadModel",
            "data": [
              null
            ],
            "button_style": "",
            "_view_module": "@jupyter-widgets/controls",
            "_model_module_version": "1.5.0",
            "accept": "",
            "_view_count": null,
            "disabled": false,
            "_view_module_version": "1.5.0",
            "error": "",
            "description_tooltip": null,
            "metadata": [
              {
                "name": "ramen.jpg",
                "type": "image/jpeg",
                "size": 31516,
                "lastModified": 1622018997581
              }
            ],
            "_model_module": "@jupyter-widgets/controls",
            "layout": "IPY_MODEL_4aed09ea14e84354bc149abb876cd856",
            "icon": "upload"
          }
        },
        "84c95dc4aaed491785aec721f5018c62": {
          "model_module": "@jupyter-widgets/controls",
          "model_name": "ButtonStyleModel",
          "state": {
            "_view_name": "StyleView",
            "_model_name": "ButtonStyleModel",
            "_view_module": "@jupyter-widgets/base",
            "_model_module_version": "1.5.0",
            "_view_count": null,
            "button_color": null,
            "font_weight": "",
            "_view_module_version": "1.2.0",
            "_model_module": "@jupyter-widgets/controls"
          }
        },
        "4aed09ea14e84354bc149abb876cd856": {
          "model_module": "@jupyter-widgets/base",
          "model_name": "LayoutModel",
          "state": {
            "_view_name": "LayoutView",
            "grid_template_rows": null,
            "right": null,
            "justify_content": null,
            "_view_module": "@jupyter-widgets/base",
            "overflow": null,
            "_model_module_version": "1.2.0",
            "_view_count": null,
            "flex_flow": null,
            "width": null,
            "min_width": null,
            "border": null,
            "align_items": null,
            "bottom": null,
            "_model_module": "@jupyter-widgets/base",
            "top": null,
            "grid_column": null,
            "overflow_y": null,
            "overflow_x": null,
            "grid_auto_flow": null,
            "grid_area": null,
            "grid_template_columns": null,
            "flex": null,
            "_model_name": "LayoutModel",
            "justify_items": null,
            "grid_row": null,
            "max_height": null,
            "align_content": null,
            "visibility": null,
            "align_self": null,
            "height": null,
            "min_height": null,
            "padding": null,
            "grid_auto_rows": null,
            "grid_gap": null,
            "max_width": null,
            "order": null,
            "_view_module_version": "1.2.0",
            "grid_template_areas": null,
            "object_position": null,
            "object_fit": null,
            "grid_auto_columns": null,
            "margin": null,
            "display": null,
            "left": null
          }
        },
        "083f82f11e94401a9acc8d99968b871c": {
          "model_module": "@jupyter-widgets/output",
          "model_name": "OutputModel",
          "state": {
            "_view_name": "OutputView",
            "msg_id": "",
            "_dom_classes": [],
            "_model_name": "OutputModel",
            "outputs": [
              {
                "output_type": "display_data",
                "metadata": {
                  "tags": []
                },
                "image/png": "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\n",
                "text/plain": "<PIL.Image.Image image mode=RGB size=90x90 at 0x7F40538C4D90>"
              }
            ],
            "_view_module": "@jupyter-widgets/output",
            "_model_module_version": "1.0.0",
            "_view_count": null,
            "_view_module_version": "1.0.0",
            "layout": "IPY_MODEL_c6a2f2f614ea4c9ab7b1238b839e13ef",
            "_model_module": "@jupyter-widgets/output"
          }
        },
        "c6a2f2f614ea4c9ab7b1238b839e13ef": {
          "model_module": "@jupyter-widgets/base",
          "model_name": "LayoutModel",
          "state": {
            "_view_name": "LayoutView",
            "grid_template_rows": null,
            "right": null,
            "justify_content": null,
            "_view_module": "@jupyter-widgets/base",
            "overflow": null,
            "_model_module_version": "1.2.0",
            "_view_count": null,
            "flex_flow": null,
            "width": null,
            "min_width": null,
            "border": null,
            "align_items": null,
            "bottom": null,
            "_model_module": "@jupyter-widgets/base",
            "top": null,
            "grid_column": null,
            "overflow_y": null,
            "overflow_x": null,
            "grid_auto_flow": null,
            "grid_area": null,
            "grid_template_columns": null,
            "flex": null,
            "_model_name": "LayoutModel",
            "justify_items": null,
            "grid_row": null,
            "max_height": null,
            "align_content": null,
            "visibility": null,
            "align_self": null,
            "height": null,
            "min_height": null,
            "padding": null,
            "grid_auto_rows": null,
            "grid_gap": null,
            "max_width": null,
            "order": null,
            "_view_module_version": "1.2.0",
            "grid_template_areas": null,
            "object_position": null,
            "object_fit": null,
            "grid_auto_columns": null,
            "margin": null,
            "display": null,
            "left": null
          }
        },
        "456d212c7e3c4edb830c0239c98bbd58": {
          "model_module": "@jupyter-widgets/controls",
          "model_name": "LabelModel",
          "state": {
            "_view_name": "LabelView",
            "style": "IPY_MODEL_f6714e9b1aea48bba98cb0645156b62b",
            "_dom_classes": [],
            "description": "",
            "_model_name": "LabelModel",
            "placeholder": "​",
            "_view_module": "@jupyter-widgets/controls",
            "_model_module_version": "1.5.0",
            "value": "Prediction: burger; Probability: 0.9980",
            "_view_count": null,
            "_view_module_version": "1.5.0",
            "description_tooltip": null,
            "_model_module": "@jupyter-widgets/controls",
            "layout": "IPY_MODEL_e85dd96f26364791be79167f7bf83268"
          }
        },
        "f6714e9b1aea48bba98cb0645156b62b": {
          "model_module": "@jupyter-widgets/controls",
          "model_name": "DescriptionStyleModel",
          "state": {
            "_view_name": "StyleView",
            "_model_name": "DescriptionStyleModel",
            "description_width": "",
            "_view_module": "@jupyter-widgets/base",
            "_model_module_version": "1.5.0",
            "_view_count": null,
            "_view_module_version": "1.2.0",
            "_model_module": "@jupyter-widgets/controls"
          }
        },
        "e85dd96f26364791be79167f7bf83268": {
          "model_module": "@jupyter-widgets/base",
          "model_name": "LayoutModel",
          "state": {
            "_view_name": "LayoutView",
            "grid_template_rows": null,
            "right": null,
            "justify_content": null,
            "_view_module": "@jupyter-widgets/base",
            "overflow": null,
            "_model_module_version": "1.2.0",
            "_view_count": null,
            "flex_flow": null,
            "width": null,
            "min_width": null,
            "border": null,
            "align_items": null,
            "bottom": null,
            "_model_module": "@jupyter-widgets/base",
            "top": null,
            "grid_column": null,
            "overflow_y": null,
            "overflow_x": null,
            "grid_auto_flow": null,
            "grid_area": null,
            "grid_template_columns": null,
            "flex": null,
            "_model_name": "LayoutModel",
            "justify_items": null,
            "grid_row": null,
            "max_height": null,
            "align_content": null,
            "visibility": null,
            "align_self": null,
            "height": null,
            "min_height": null,
            "padding": null,
            "grid_auto_rows": null,
            "grid_gap": null,
            "max_width": null,
            "order": null,
            "_view_module_version": "1.2.0",
            "grid_template_areas": null,
            "object_position": null,
            "object_fit": null,
            "grid_auto_columns": null,
            "margin": null,
            "display": null,
            "left": null
          }
        },
        "9d55a1e081f8419eb606168aefcc9b62": {
          "model_module": "@jupyter-widgets/controls",
          "model_name": "ButtonModel",
          "state": {
            "_view_name": "ButtonView",
            "style": "IPY_MODEL_309ced68b918402e9c24666a12a6c59a",
            "_dom_classes": [],
            "description": "Classify",
            "_model_name": "ButtonModel",
            "button_style": "",
            "_view_module": "@jupyter-widgets/controls",
            "_model_module_version": "1.5.0",
            "tooltip": "",
            "_view_count": null,
            "disabled": false,
            "_view_module_version": "1.5.0",
            "layout": "IPY_MODEL_69f47734d4ea4cd0bcb4c99006b615a3",
            "_model_module": "@jupyter-widgets/controls",
            "icon": ""
          }
        },
        "309ced68b918402e9c24666a12a6c59a": {
          "model_module": "@jupyter-widgets/controls",
          "model_name": "ButtonStyleModel",
          "state": {
            "_view_name": "StyleView",
            "_model_name": "ButtonStyleModel",
            "_view_module": "@jupyter-widgets/base",
            "_model_module_version": "1.5.0",
            "_view_count": null,
            "button_color": null,
            "font_weight": "",
            "_view_module_version": "1.2.0",
            "_model_module": "@jupyter-widgets/controls"
          }
        },
        "69f47734d4ea4cd0bcb4c99006b615a3": {
          "model_module": "@jupyter-widgets/base",
          "model_name": "LayoutModel",
          "state": {
            "_view_name": "LayoutView",
            "grid_template_rows": null,
            "right": null,
            "justify_content": null,
            "_view_module": "@jupyter-widgets/base",
            "overflow": null,
            "_model_module_version": "1.2.0",
            "_view_count": null,
            "flex_flow": null,
            "width": null,
            "min_width": null,
            "border": null,
            "align_items": null,
            "bottom": null,
            "_model_module": "@jupyter-widgets/base",
            "top": null,
            "grid_column": null,
            "overflow_y": null,
            "overflow_x": null,
            "grid_auto_flow": null,
            "grid_area": null,
            "grid_template_columns": null,
            "flex": null,
            "_model_name": "LayoutModel",
            "justify_items": null,
            "grid_row": null,
            "max_height": null,
            "align_content": null,
            "visibility": null,
            "align_self": null,
            "height": null,
            "min_height": null,
            "padding": null,
            "grid_auto_rows": null,
            "grid_gap": null,
            "max_width": null,
            "order": null,
            "_view_module_version": "1.2.0",
            "grid_template_areas": null,
            "object_position": null,
            "object_fit": null,
            "grid_auto_columns": null,
            "margin": null,
            "display": null,
            "left": null
          }
        },
        "39b68d77d56d47f281f06f8592e20818": {
          "model_module": "@jupyter-widgets/controls",
          "model_name": "VBoxModel",
          "state": {
            "_view_name": "VBoxView",
            "_dom_classes": [],
            "_model_name": "VBoxModel",
            "_view_module": "@jupyter-widgets/controls",
            "_model_module_version": "1.5.0",
            "_view_count": null,
            "_view_module_version": "1.5.0",
            "box_style": "",
            "layout": "IPY_MODEL_c333cee7bc4240a0b4bc5b195406f150",
            "_model_module": "@jupyter-widgets/controls",
            "children": [
              "IPY_MODEL_b96889aed5a5476f858ce308a5bd35b6",
              "IPY_MODEL_8f73ecb2d3b143378f82bf71b750edd1",
              "IPY_MODEL_9d55a1e081f8419eb606168aefcc9b62",
              "IPY_MODEL_083f82f11e94401a9acc8d99968b871c",
              "IPY_MODEL_456d212c7e3c4edb830c0239c98bbd58"
            ]
          }
        },
        "c333cee7bc4240a0b4bc5b195406f150": {
          "model_module": "@jupyter-widgets/base",
          "model_name": "LayoutModel",
          "state": {
            "_view_name": "LayoutView",
            "grid_template_rows": null,
            "right": null,
            "justify_content": null,
            "_view_module": "@jupyter-widgets/base",
            "overflow": null,
            "_model_module_version": "1.2.0",
            "_view_count": null,
            "flex_flow": null,
            "width": null,
            "min_width": null,
            "border": null,
            "align_items": null,
            "bottom": null,
            "_model_module": "@jupyter-widgets/base",
            "top": null,
            "grid_column": null,
            "overflow_y": null,
            "overflow_x": null,
            "grid_auto_flow": null,
            "grid_area": null,
            "grid_template_columns": null,
            "flex": null,
            "_model_name": "LayoutModel",
            "justify_items": null,
            "grid_row": null,
            "max_height": null,
            "align_content": null,
            "visibility": null,
            "align_self": null,
            "height": null,
            "min_height": null,
            "padding": null,
            "grid_auto_rows": null,
            "grid_gap": null,
            "max_width": null,
            "order": null,
            "_view_module_version": "1.2.0",
            "grid_template_areas": null,
            "object_position": null,
            "object_fit": null,
            "grid_auto_columns": null,
            "margin": null,
            "display": null,
            "left": null
          }
        },
        "b96889aed5a5476f858ce308a5bd35b6": {
          "model_module": "@jupyter-widgets/controls",
          "model_name": "LabelModel",
          "state": {
            "_view_name": "LabelView",
            "style": "IPY_MODEL_dd022a9c2f0e4b5386dccf631b786c6a",
            "_dom_classes": [],
            "description": "",
            "_model_name": "LabelModel",
            "placeholder": "​",
            "_view_module": "@jupyter-widgets/controls",
            "_model_module_version": "1.5.0",
            "value": "Choose da food",
            "_view_count": null,
            "_view_module_version": "1.5.0",
            "description_tooltip": null,
            "_model_module": "@jupyter-widgets/controls",
            "layout": "IPY_MODEL_5bbf1eca681e49eaaec2dd5ccd1a8c43"
          }
        },
        "8f73ecb2d3b143378f82bf71b750edd1": {
          "model_module": "@jupyter-widgets/controls",
          "model_name": "FileUploadModel",
          "state": {
            "_view_name": "FileUploadView",
            "_counter": 1,
            "style": "IPY_MODEL_60db4cae459743eabab89749bf8746f9",
            "_dom_classes": [],
            "description": "Upload",
            "multiple": false,
            "_model_name": "FileUploadModel",
            "data": [
              null
            ],
            "button_style": "",
            "_view_module": "@jupyter-widgets/controls",
            "_model_module_version": "1.5.0",
            "accept": "",
            "_view_count": null,
            "disabled": false,
            "_view_module_version": "1.5.0",
            "error": "",
            "description_tooltip": null,
            "metadata": [
              {
                "name": "borger.jpeg",
                "type": "image/jpeg",
                "size": 4004,
                "lastModified": 1622028585101
              }
            ],
            "_model_module": "@jupyter-widgets/controls",
            "layout": "IPY_MODEL_0e5c54aace56487abae529983cb42272",
            "icon": "upload"
          }
        },
        "dd022a9c2f0e4b5386dccf631b786c6a": {
          "model_module": "@jupyter-widgets/controls",
          "model_name": "DescriptionStyleModel",
          "state": {
            "_view_name": "StyleView",
            "_model_name": "DescriptionStyleModel",
            "description_width": "",
            "_view_module": "@jupyter-widgets/base",
            "_model_module_version": "1.5.0",
            "_view_count": null,
            "_view_module_version": "1.2.0",
            "_model_module": "@jupyter-widgets/controls"
          }
        },
        "5bbf1eca681e49eaaec2dd5ccd1a8c43": {
          "model_module": "@jupyter-widgets/base",
          "model_name": "LayoutModel",
          "state": {
            "_view_name": "LayoutView",
            "grid_template_rows": null,
            "right": null,
            "justify_content": null,
            "_view_module": "@jupyter-widgets/base",
            "overflow": null,
            "_model_module_version": "1.2.0",
            "_view_count": null,
            "flex_flow": null,
            "width": null,
            "min_width": null,
            "border": null,
            "align_items": null,
            "bottom": null,
            "_model_module": "@jupyter-widgets/base",
            "top": null,
            "grid_column": null,
            "overflow_y": null,
            "overflow_x": null,
            "grid_auto_flow": null,
            "grid_area": null,
            "grid_template_columns": null,
            "flex": null,
            "_model_name": "LayoutModel",
            "justify_items": null,
            "grid_row": null,
            "max_height": null,
            "align_content": null,
            "visibility": null,
            "align_self": null,
            "height": null,
            "min_height": null,
            "padding": null,
            "grid_auto_rows": null,
            "grid_gap": null,
            "max_width": null,
            "order": null,
            "_view_module_version": "1.2.0",
            "grid_template_areas": null,
            "object_position": null,
            "object_fit": null,
            "grid_auto_columns": null,
            "margin": null,
            "display": null,
            "left": null
          }
        },
        "60db4cae459743eabab89749bf8746f9": {
          "model_module": "@jupyter-widgets/controls",
          "model_name": "ButtonStyleModel",
          "state": {
            "_view_name": "StyleView",
            "_model_name": "ButtonStyleModel",
            "_view_module": "@jupyter-widgets/base",
            "_model_module_version": "1.5.0",
            "_view_count": null,
            "button_color": null,
            "font_weight": "",
            "_view_module_version": "1.2.0",
            "_model_module": "@jupyter-widgets/controls"
          }
        },
        "0e5c54aace56487abae529983cb42272": {
          "model_module": "@jupyter-widgets/base",
          "model_name": "LayoutModel",
          "state": {
            "_view_name": "LayoutView",
            "grid_template_rows": null,
            "right": null,
            "justify_content": null,
            "_view_module": "@jupyter-widgets/base",
            "overflow": null,
            "_model_module_version": "1.2.0",
            "_view_count": null,
            "flex_flow": null,
            "width": null,
            "min_width": null,
            "border": null,
            "align_items": null,
            "bottom": null,
            "_model_module": "@jupyter-widgets/base",
            "top": null,
            "grid_column": null,
            "overflow_y": null,
            "overflow_x": null,
            "grid_auto_flow": null,
            "grid_area": null,
            "grid_template_columns": null,
            "flex": null,
            "_model_name": "LayoutModel",
            "justify_items": null,
            "grid_row": null,
            "max_height": null,
            "align_content": null,
            "visibility": null,
            "align_self": null,
            "height": null,
            "min_height": null,
            "padding": null,
            "grid_auto_rows": null,
            "grid_gap": null,
            "max_width": null,
            "order": null,
            "_view_module_version": "1.2.0",
            "grid_template_areas": null,
            "object_position": null,
            "object_fit": null,
            "grid_auto_columns": null,
            "margin": null,
            "display": null,
            "left": null
          }
        }
      }
    }
  },
  "cells": [
    {
      "cell_type": "markdown",
      "metadata": {
        "id": "view-in-github",
        "colab_type": "text"
      },
      "source": [
        "<a href=\"https://colab.research.google.com/github/WetRavioli22/FastAi/blob/main/fast.ipynb\" target=\"_parent\"><img src=\"https://colab.research.google.com/assets/colab-badge.svg\" alt=\"Open In Colab\"/></a>"
      ]
    },
    {
      "cell_type": "code",
      "metadata": {
        "colab": {
          "base_uri": "https://localhost:8080/"
        },
        "id": "EGdSezYpsKHf",
        "outputId": "32746aca-7659-431f-b647-783fea4ba018"
      },
      "source": [
        "!pip install -Uqq fastbook\n",
        "import fastbook\n",
        "fastbook.setup_book()"
      ],
      "execution_count": 1,
      "outputs": [
        {
          "output_type": "stream",
          "text": [
            "\u001b[K     |████████████████████████████████| 727kB 7.1MB/s \n",
            "\u001b[K     |████████████████████████████████| 204kB 13.7MB/s \n",
            "\u001b[K     |████████████████████████████████| 1.2MB 14.6MB/s \n",
            "\u001b[K     |████████████████████████████████| 51kB 7.0MB/s \n",
            "\u001b[K     |████████████████████████████████| 61kB 7.9MB/s \n",
            "\u001b[K     |████████████████████████████████| 61kB 8.2MB/s \n",
            "\u001b[?25hMounted at /content/gdrive\n"
          ],
          "name": "stdout"
        }
      ]
    },
    {
      "cell_type": "code",
      "metadata": {
        "id": "CgQvErBFtkRf"
      },
      "source": [
        "from fastbook import *\n",
        "from fastai.vision.widgets import *"
      ],
      "execution_count": 2,
      "outputs": []
    },
    {
      "cell_type": "code",
      "metadata": {
        "colab": {
          "base_uri": "https://localhost:8080/"
        },
        "id": "bSJqkJRzwAyp",
        "outputId": "67d10d27-7bd2-45c0-b3fc-0a7aeccf86ad"
      },
      "source": [
        "pip install jmd_imagescraper"
      ],
      "execution_count": 7,
      "outputs": [
        {
          "output_type": "stream",
          "text": [
            "Collecting jmd_imagescraper\n",
            "  Downloading https://files.pythonhosted.org/packages/c6/80/b84f3cbce8a7f0491a16e8dc7d7b671539223c6ad686b21e4c26c353847f/jmd_imagescraper-1.0.2-py3-none-any.whl\n",
            "Requirement already satisfied: bs4 in /usr/local/lib/python3.7/dist-packages (from jmd_imagescraper) (0.0.1)\n",
            "Requirement already satisfied: fastprogress in /usr/local/lib/python3.7/dist-packages (from jmd_imagescraper) (1.0.0)\n",
            "Requirement already satisfied: requests in /usr/local/lib/python3.7/dist-packages (from jmd_imagescraper) (2.23.0)\n",
            "Requirement already satisfied: ipywidgets in /usr/local/lib/python3.7/dist-packages (from jmd_imagescraper) (7.6.3)\n",
            "Requirement already satisfied: pandas in /usr/local/lib/python3.7/dist-packages (from jmd_imagescraper) (1.1.5)\n",
            "Requirement already satisfied: pathlib in /usr/local/lib/python3.7/dist-packages (from jmd_imagescraper) (1.0.1)\n",
            "Requirement already satisfied: Pillow in /usr/local/lib/python3.7/dist-packages (from jmd_imagescraper) (7.1.2)\n",
            "Requirement already satisfied: beautifulsoup4 in /usr/local/lib/python3.7/dist-packages (from bs4->jmd_imagescraper) (4.6.3)\n",
            "Requirement already satisfied: numpy in /usr/local/lib/python3.7/dist-packages (from fastprogress->jmd_imagescraper) (1.19.5)\n",
            "Requirement already satisfied: certifi>=2017.4.17 in /usr/local/lib/python3.7/dist-packages (from requests->jmd_imagescraper) (2020.12.5)\n",
            "Requirement already satisfied: urllib3!=1.25.0,!=1.25.1,<1.26,>=1.21.1 in /usr/local/lib/python3.7/dist-packages (from requests->jmd_imagescraper) (1.24.3)\n",
            "Requirement already satisfied: chardet<4,>=3.0.2 in /usr/local/lib/python3.7/dist-packages (from requests->jmd_imagescraper) (3.0.4)\n",
            "Requirement already satisfied: idna<3,>=2.5 in /usr/local/lib/python3.7/dist-packages (from requests->jmd_imagescraper) (2.10)\n",
            "Requirement already satisfied: traitlets>=4.3.1 in /usr/local/lib/python3.7/dist-packages (from ipywidgets->jmd_imagescraper) (5.0.5)\n",
            "Requirement already satisfied: jupyterlab-widgets>=1.0.0; python_version >= \"3.6\" in /usr/local/lib/python3.7/dist-packages (from ipywidgets->jmd_imagescraper) (1.0.0)\n",
            "Requirement already satisfied: widgetsnbextension~=3.5.0 in /usr/local/lib/python3.7/dist-packages (from ipywidgets->jmd_imagescraper) (3.5.1)\n",
            "Requirement already satisfied: nbformat>=4.2.0 in /usr/local/lib/python3.7/dist-packages (from ipywidgets->jmd_imagescraper) (5.1.3)\n",
            "Requirement already satisfied: ipykernel>=4.5.1 in /usr/local/lib/python3.7/dist-packages (from ipywidgets->jmd_imagescraper) (4.10.1)\n",
            "Requirement already satisfied: ipython>=4.0.0; python_version >= \"3.3\" in /usr/local/lib/python3.7/dist-packages (from ipywidgets->jmd_imagescraper) (5.5.0)\n",
            "Requirement already satisfied: pytz>=2017.2 in /usr/local/lib/python3.7/dist-packages (from pandas->jmd_imagescraper) (2018.9)\n",
            "Requirement already satisfied: python-dateutil>=2.7.3 in /usr/local/lib/python3.7/dist-packages (from pandas->jmd_imagescraper) (2.8.1)\n",
            "Requirement already satisfied: ipython-genutils in /usr/local/lib/python3.7/dist-packages (from traitlets>=4.3.1->ipywidgets->jmd_imagescraper) (0.2.0)\n",
            "Requirement already satisfied: notebook>=4.4.1 in /usr/local/lib/python3.7/dist-packages (from widgetsnbextension~=3.5.0->ipywidgets->jmd_imagescraper) (5.3.1)\n",
            "Requirement already satisfied: jupyter-core in /usr/local/lib/python3.7/dist-packages (from nbformat>=4.2.0->ipywidgets->jmd_imagescraper) (4.7.1)\n",
            "Requirement already satisfied: jsonschema!=2.5.0,>=2.4 in /usr/local/lib/python3.7/dist-packages (from nbformat>=4.2.0->ipywidgets->jmd_imagescraper) (2.6.0)\n",
            "Requirement already satisfied: jupyter-client in /usr/local/lib/python3.7/dist-packages (from ipykernel>=4.5.1->ipywidgets->jmd_imagescraper) (5.3.5)\n",
            "Requirement already satisfied: tornado>=4.0 in /usr/local/lib/python3.7/dist-packages (from ipykernel>=4.5.1->ipywidgets->jmd_imagescraper) (5.1.1)\n",
            "Requirement already satisfied: decorator in /usr/local/lib/python3.7/dist-packages (from ipython>=4.0.0; python_version >= \"3.3\"->ipywidgets->jmd_imagescraper) (4.4.2)\n",
            "Requirement already satisfied: prompt-toolkit<2.0.0,>=1.0.4 in /usr/local/lib/python3.7/dist-packages (from ipython>=4.0.0; python_version >= \"3.3\"->ipywidgets->jmd_imagescraper) (1.0.18)\n",
            "Requirement already satisfied: pickleshare in /usr/local/lib/python3.7/dist-packages (from ipython>=4.0.0; python_version >= \"3.3\"->ipywidgets->jmd_imagescraper) (0.7.5)\n",
            "Requirement already satisfied: simplegeneric>0.8 in /usr/local/lib/python3.7/dist-packages (from ipython>=4.0.0; python_version >= \"3.3\"->ipywidgets->jmd_imagescraper) (0.8.1)\n",
            "Requirement already satisfied: pexpect; sys_platform != \"win32\" in /usr/local/lib/python3.7/dist-packages (from ipython>=4.0.0; python_version >= \"3.3\"->ipywidgets->jmd_imagescraper) (4.8.0)\n",
            "Requirement already satisfied: pygments in /usr/local/lib/python3.7/dist-packages (from ipython>=4.0.0; python_version >= \"3.3\"->ipywidgets->jmd_imagescraper) (2.6.1)\n",
            "Requirement already satisfied: setuptools>=18.5 in /usr/local/lib/python3.7/dist-packages (from ipython>=4.0.0; python_version >= \"3.3\"->ipywidgets->jmd_imagescraper) (56.1.0)\n",
            "Requirement already satisfied: six>=1.5 in /usr/local/lib/python3.7/dist-packages (from python-dateutil>=2.7.3->pandas->jmd_imagescraper) (1.15.0)\n",
            "Requirement already satisfied: nbconvert in /usr/local/lib/python3.7/dist-packages (from notebook>=4.4.1->widgetsnbextension~=3.5.0->ipywidgets->jmd_imagescraper) (5.6.1)\n",
            "Requirement already satisfied: jinja2 in /usr/local/lib/python3.7/dist-packages (from notebook>=4.4.1->widgetsnbextension~=3.5.0->ipywidgets->jmd_imagescraper) (2.11.3)\n",
            "Requirement already satisfied: Send2Trash in /usr/local/lib/python3.7/dist-packages (from notebook>=4.4.1->widgetsnbextension~=3.5.0->ipywidgets->jmd_imagescraper) (1.5.0)\n",
            "Requirement already satisfied: terminado>=0.8.1 in /usr/local/lib/python3.7/dist-packages (from notebook>=4.4.1->widgetsnbextension~=3.5.0->ipywidgets->jmd_imagescraper) (0.10.0)\n",
            "Requirement already satisfied: pyzmq>=13 in /usr/local/lib/python3.7/dist-packages (from jupyter-client->ipykernel>=4.5.1->ipywidgets->jmd_imagescraper) (22.0.3)\n",
            "Requirement already satisfied: wcwidth in /usr/local/lib/python3.7/dist-packages (from prompt-toolkit<2.0.0,>=1.0.4->ipython>=4.0.0; python_version >= \"3.3\"->ipywidgets->jmd_imagescraper) (0.2.5)\n",
            "Requirement already satisfied: ptyprocess>=0.5 in /usr/local/lib/python3.7/dist-packages (from pexpect; sys_platform != \"win32\"->ipython>=4.0.0; python_version >= \"3.3\"->ipywidgets->jmd_imagescraper) (0.7.0)\n",
            "Requirement already satisfied: defusedxml in /usr/local/lib/python3.7/dist-packages (from nbconvert->notebook>=4.4.1->widgetsnbextension~=3.5.0->ipywidgets->jmd_imagescraper) (0.7.1)\n",
            "Requirement already satisfied: entrypoints>=0.2.2 in /usr/local/lib/python3.7/dist-packages (from nbconvert->notebook>=4.4.1->widgetsnbextension~=3.5.0->ipywidgets->jmd_imagescraper) (0.3)\n",
            "Requirement already satisfied: mistune<2,>=0.8.1 in /usr/local/lib/python3.7/dist-packages (from nbconvert->notebook>=4.4.1->widgetsnbextension~=3.5.0->ipywidgets->jmd_imagescraper) (0.8.4)\n",
            "Requirement already satisfied: bleach in /usr/local/lib/python3.7/dist-packages (from nbconvert->notebook>=4.4.1->widgetsnbextension~=3.5.0->ipywidgets->jmd_imagescraper) (3.3.0)\n",
            "Requirement already satisfied: testpath in /usr/local/lib/python3.7/dist-packages (from nbconvert->notebook>=4.4.1->widgetsnbextension~=3.5.0->ipywidgets->jmd_imagescraper) (0.5.0)\n",
            "Requirement already satisfied: pandocfilters>=1.4.1 in /usr/local/lib/python3.7/dist-packages (from nbconvert->notebook>=4.4.1->widgetsnbextension~=3.5.0->ipywidgets->jmd_imagescraper) (1.4.3)\n",
            "Requirement already satisfied: MarkupSafe>=0.23 in /usr/local/lib/python3.7/dist-packages (from jinja2->notebook>=4.4.1->widgetsnbextension~=3.5.0->ipywidgets->jmd_imagescraper) (2.0.1)\n",
            "Requirement already satisfied: packaging in /usr/local/lib/python3.7/dist-packages (from bleach->nbconvert->notebook>=4.4.1->widgetsnbextension~=3.5.0->ipywidgets->jmd_imagescraper) (20.9)\n",
            "Requirement already satisfied: webencodings in /usr/local/lib/python3.7/dist-packages (from bleach->nbconvert->notebook>=4.4.1->widgetsnbextension~=3.5.0->ipywidgets->jmd_imagescraper) (0.5.1)\n",
            "Requirement already satisfied: pyparsing>=2.0.2 in /usr/local/lib/python3.7/dist-packages (from packaging->bleach->nbconvert->notebook>=4.4.1->widgetsnbextension~=3.5.0->ipywidgets->jmd_imagescraper) (2.4.7)\n",
            "Installing collected packages: jmd-imagescraper\n",
            "Successfully installed jmd-imagescraper-1.0.2\n"
          ],
          "name": "stdout"
        }
      ]
    },
    {
      "cell_type": "code",
      "metadata": {
        "id": "Q039YQZut5zg"
      },
      "source": [
        "from jmd_imagescraper.core import *\n",
        "from pathlib import Path\n",
        "from jmd_imagescraper.imagecleaner import *"
      ],
      "execution_count": 8,
      "outputs": []
    },
    {
      "cell_type": "code",
      "metadata": {
        "id": "sbzvZq1-w6G8"
      },
      "source": [
        "food = ['noodles','burger']\n",
        "path = Path().cwd()/\"food\""
      ],
      "execution_count": 9,
      "outputs": []
    },
    {
      "cell_type": "code",
      "metadata": {
        "colab": {
          "base_uri": "https://localhost:8080/",
          "height": 1000
        },
        "id": "O6GGdSjoxxfY",
        "outputId": "44c259af-1181-4b73-e43f-c52aae11b83f"
      },
      "source": [
        "duckduckgo_search(path,\"noodles\",\"noodles\",max_results=100)"
      ],
      "execution_count": 10,
      "outputs": [
        {
          "output_type": "stream",
          "text": [
            "Duckduckgo search: noodles\n",
            "Downloading results into /content/food/noodles\n"
          ],
          "name": "stdout"
        },
        {
          "output_type": "display_data",
          "data": {
            "text/html": [
              "\n",
              "    <div>\n",
              "        <style>\n",
              "            /* Turns off some styling */\n",
              "            progress {\n",
              "                /* gets rid of default border in Firefox and Opera. */\n",
              "                border: none;\n",
              "                /* Needs to be in here for Safari polyfill so background images work as expected. */\n",
              "                background-size: auto;\n",
              "            }\n",
              "            .progress-bar-interrupted, .progress-bar-interrupted::-webkit-progress-bar {\n",
              "                background: #F44336;\n",
              "            }\n",
              "        </style>\n",
              "      <progress value='100' class='' max='100' style='width:300px; height:20px; vertical-align: middle;'></progress>\n",
              "      100.00% [100/100 00:08<00:00 Images downloaded]\n",
              "    </div>\n",
              "    "
            ],
            "text/plain": [
              "<IPython.core.display.HTML object>"
            ]
          },
          "metadata": {
            "tags": []
          }
        },
        {
          "output_type": "execute_result",
          "data": {
            "text/plain": [
              "[Path('/content/food/noodles/001_38aedb78.jpg'),\n",
              " Path('/content/food/noodles/002_baf87425.jpg'),\n",
              " Path('/content/food/noodles/003_c287c21d.jpg'),\n",
              " Path('/content/food/noodles/004_202adf7d.jpg'),\n",
              " Path('/content/food/noodles/005_423c9645.jpg'),\n",
              " Path('/content/food/noodles/006_4a200369.jpg'),\n",
              " Path('/content/food/noodles/007_b6e9c472.jpg'),\n",
              " Path('/content/food/noodles/008_52731108.jpg'),\n",
              " Path('/content/food/noodles/009_f7c0d9c6.jpg'),\n",
              " Path('/content/food/noodles/010_7456a579.jpg'),\n",
              " Path('/content/food/noodles/011_16fe9523.jpg'),\n",
              " Path('/content/food/noodles/012_4577a373.jpg'),\n",
              " Path('/content/food/noodles/013_78c3ccc7.jpg'),\n",
              " Path('/content/food/noodles/014_ab837c31.jpg'),\n",
              " Path('/content/food/noodles/015_64f31ac4.jpg'),\n",
              " Path('/content/food/noodles/016_bebc4c81.jpg'),\n",
              " Path('/content/food/noodles/017_afc1b878.jpg'),\n",
              " Path('/content/food/noodles/018_9535b191.jpg'),\n",
              " Path('/content/food/noodles/019_55e8b7eb.jpg'),\n",
              " Path('/content/food/noodles/020_4d557222.jpg'),\n",
              " Path('/content/food/noodles/021_bd57257e.jpg'),\n",
              " Path('/content/food/noodles/022_c4329ce1.jpg'),\n",
              " Path('/content/food/noodles/023_1c80aaa1.jpg'),\n",
              " Path('/content/food/noodles/024_39f67155.jpg'),\n",
              " Path('/content/food/noodles/025_56fde4d2.jpg'),\n",
              " Path('/content/food/noodles/026_b84401a8.jpg'),\n",
              " Path('/content/food/noodles/027_8f5cb79e.jpg'),\n",
              " Path('/content/food/noodles/028_f1b15d54.jpg'),\n",
              " Path('/content/food/noodles/029_d76f4992.jpg'),\n",
              " Path('/content/food/noodles/030_20abcb50.jpg'),\n",
              " Path('/content/food/noodles/031_72b05785.jpg'),\n",
              " Path('/content/food/noodles/032_21bd2401.jpg'),\n",
              " Path('/content/food/noodles/033_1ac917d9.jpg'),\n",
              " Path('/content/food/noodles/034_321a1553.jpg'),\n",
              " Path('/content/food/noodles/035_b97e0910.jpg'),\n",
              " Path('/content/food/noodles/036_ab209d16.jpg'),\n",
              " Path('/content/food/noodles/037_83e77cb0.jpg'),\n",
              " Path('/content/food/noodles/038_4b5c058f.jpg'),\n",
              " Path('/content/food/noodles/039_70485a67.jpg'),\n",
              " Path('/content/food/noodles/040_f757709f.jpg'),\n",
              " Path('/content/food/noodles/041_84988de1.jpg'),\n",
              " Path('/content/food/noodles/042_51d06049.jpg'),\n",
              " Path('/content/food/noodles/043_230db3d8.jpg'),\n",
              " Path('/content/food/noodles/044_8967af72.jpg'),\n",
              " Path('/content/food/noodles/045_9256bcb9.jpg'),\n",
              " Path('/content/food/noodles/046_3888287a.jpg'),\n",
              " Path('/content/food/noodles/047_294f69d8.jpg'),\n",
              " Path('/content/food/noodles/048_c034194b.jpg'),\n",
              " Path('/content/food/noodles/049_c78ca17b.jpg'),\n",
              " Path('/content/food/noodles/050_7410e0fb.jpg'),\n",
              " Path('/content/food/noodles/051_41ff546b.jpg'),\n",
              " Path('/content/food/noodles/052_ed4384a5.jpg'),\n",
              " Path('/content/food/noodles/053_34ea6ecb.jpg'),\n",
              " Path('/content/food/noodles/054_def9ac80.jpg'),\n",
              " Path('/content/food/noodles/055_c994fa68.jpg'),\n",
              " Path('/content/food/noodles/056_0c8c171c.jpg'),\n",
              " Path('/content/food/noodles/057_f3e32144.jpg'),\n",
              " Path('/content/food/noodles/058_fed603ab.jpg'),\n",
              " Path('/content/food/noodles/059_1dba2f91.jpg'),\n",
              " Path('/content/food/noodles/060_1a988555.jpg'),\n",
              " Path('/content/food/noodles/061_049d4af2.jpg'),\n",
              " Path('/content/food/noodles/062_8bfcc9bd.jpg'),\n",
              " Path('/content/food/noodles/063_80ef1bfe.jpg'),\n",
              " Path('/content/food/noodles/064_25c2af70.jpg'),\n",
              " Path('/content/food/noodles/065_0141a8a7.jpg'),\n",
              " Path('/content/food/noodles/066_2d35950e.jpg'),\n",
              " Path('/content/food/noodles/067_5a84b318.jpg'),\n",
              " Path('/content/food/noodles/068_d9aa4b6e.jpg'),\n",
              " Path('/content/food/noodles/069_6899d2b5.jpg'),\n",
              " Path('/content/food/noodles/070_25ed9774.jpg'),\n",
              " Path('/content/food/noodles/071_101c659a.jpg'),\n",
              " Path('/content/food/noodles/072_3b07077a.jpg'),\n",
              " Path('/content/food/noodles/073_ee79e6fd.jpg'),\n",
              " Path('/content/food/noodles/074_666b221e.jpg'),\n",
              " Path('/content/food/noodles/075_9c6c4fce.jpg'),\n",
              " Path('/content/food/noodles/076_59d50d05.jpg'),\n",
              " Path('/content/food/noodles/077_1a81e479.jpg'),\n",
              " Path('/content/food/noodles/078_10b93583.jpg'),\n",
              " Path('/content/food/noodles/079_899d47ff.jpg'),\n",
              " Path('/content/food/noodles/080_e2e80b19.jpg'),\n",
              " Path('/content/food/noodles/081_227b4573.jpg'),\n",
              " Path('/content/food/noodles/082_dbf6f19a.jpg'),\n",
              " Path('/content/food/noodles/083_197834dd.jpg'),\n",
              " Path('/content/food/noodles/084_a348217a.jpg'),\n",
              " Path('/content/food/noodles/085_a804ff16.jpg'),\n",
              " Path('/content/food/noodles/086_28aad0b8.jpg'),\n",
              " Path('/content/food/noodles/087_e6c2b3b2.jpg'),\n",
              " Path('/content/food/noodles/088_09615579.jpg'),\n",
              " Path('/content/food/noodles/089_cf9e3bae.jpg'),\n",
              " Path('/content/food/noodles/090_5f3e42d4.jpg'),\n",
              " Path('/content/food/noodles/091_6d81eeaf.jpg'),\n",
              " Path('/content/food/noodles/092_8b3fe8cd.jpg'),\n",
              " Path('/content/food/noodles/093_4d721e93.jpg'),\n",
              " Path('/content/food/noodles/094_86d4c485.jpg'),\n",
              " Path('/content/food/noodles/095_b09e447f.jpg'),\n",
              " Path('/content/food/noodles/096_9e1fd519.jpg'),\n",
              " Path('/content/food/noodles/097_739ec609.jpg'),\n",
              " Path('/content/food/noodles/098_30d144f2.jpg'),\n",
              " Path('/content/food/noodles/099_399e26e4.jpg'),\n",
              " Path('/content/food/noodles/100_170d8524.jpg')]"
            ]
          },
          "metadata": {
            "tags": []
          },
          "execution_count": 10
        }
      ]
    },
    {
      "cell_type": "code",
      "metadata": {
        "colab": {
          "base_uri": "https://localhost:8080/",
          "height": 1000
        },
        "id": "hSgqueTCx-5o",
        "outputId": "037bb1f8-84b1-4025-83a9-88c626dc10c8"
      },
      "source": [
        "duckduckgo_search(path,\"burger\",\"burger\",max_results=100)"
      ],
      "execution_count": 11,
      "outputs": [
        {
          "output_type": "stream",
          "text": [
            "Duckduckgo search: burger\n",
            "Downloading results into /content/food/burger\n"
          ],
          "name": "stdout"
        },
        {
          "output_type": "display_data",
          "data": {
            "text/html": [
              "\n",
              "    <div>\n",
              "        <style>\n",
              "            /* Turns off some styling */\n",
              "            progress {\n",
              "                /* gets rid of default border in Firefox and Opera. */\n",
              "                border: none;\n",
              "                /* Needs to be in here for Safari polyfill so background images work as expected. */\n",
              "                background-size: auto;\n",
              "            }\n",
              "            .progress-bar-interrupted, .progress-bar-interrupted::-webkit-progress-bar {\n",
              "                background: #F44336;\n",
              "            }\n",
              "        </style>\n",
              "      <progress value='100' class='' max='100' style='width:300px; height:20px; vertical-align: middle;'></progress>\n",
              "      100.00% [100/100 00:08<00:00 Images downloaded]\n",
              "    </div>\n",
              "    "
            ],
            "text/plain": [
              "<IPython.core.display.HTML object>"
            ]
          },
          "metadata": {
            "tags": []
          }
        },
        {
          "output_type": "execute_result",
          "data": {
            "text/plain": [
              "[Path('/content/food/burger/001_517d266e.jpg'),\n",
              " Path('/content/food/burger/002_40ddb23b.jpg'),\n",
              " Path('/content/food/burger/003_f200c167.jpg'),\n",
              " Path('/content/food/burger/004_32a68352.jpg'),\n",
              " Path('/content/food/burger/005_d97941a4.jpg'),\n",
              " Path('/content/food/burger/006_88151a82.jpg'),\n",
              " Path('/content/food/burger/007_796bdfb4.jpg'),\n",
              " Path('/content/food/burger/008_3cd10290.jpg'),\n",
              " Path('/content/food/burger/009_c73603ec.jpg'),\n",
              " Path('/content/food/burger/010_b2aa674b.jpg'),\n",
              " Path('/content/food/burger/011_1815fda5.jpg'),\n",
              " Path('/content/food/burger/012_0ae412c8.jpg'),\n",
              " Path('/content/food/burger/013_cee9d32a.jpg'),\n",
              " Path('/content/food/burger/014_efef682e.jpg'),\n",
              " Path('/content/food/burger/015_bf17fbc5.jpg'),\n",
              " Path('/content/food/burger/016_90909356.jpg'),\n",
              " Path('/content/food/burger/017_0d1d6f34.jpg'),\n",
              " Path('/content/food/burger/018_bbd2cc6a.jpg'),\n",
              " Path('/content/food/burger/019_62af8d08.jpg'),\n",
              " Path('/content/food/burger/020_5b3d5e8e.jpg'),\n",
              " Path('/content/food/burger/021_fa1cb5dd.jpg'),\n",
              " Path('/content/food/burger/022_6b4db97f.jpg'),\n",
              " Path('/content/food/burger/023_851ed101.jpg'),\n",
              " Path('/content/food/burger/024_ffc9bb9b.jpg'),\n",
              " Path('/content/food/burger/025_dfd88bca.jpg'),\n",
              " Path('/content/food/burger/026_a8cbaa71.jpg'),\n",
              " Path('/content/food/burger/027_4189bec6.jpg'),\n",
              " Path('/content/food/burger/028_a2588ece.jpg'),\n",
              " Path('/content/food/burger/029_011d2f96.jpg'),\n",
              " Path('/content/food/burger/030_04bdf467.jpg'),\n",
              " Path('/content/food/burger/031_d8262d8e.jpg'),\n",
              " Path('/content/food/burger/032_955eb7f8.jpg'),\n",
              " Path('/content/food/burger/033_ee424539.jpg'),\n",
              " Path('/content/food/burger/034_88724b20.jpg'),\n",
              " Path('/content/food/burger/035_9a3f9a5a.jpg'),\n",
              " Path('/content/food/burger/036_e8b62486.jpg'),\n",
              " Path('/content/food/burger/037_95e74694.jpg'),\n",
              " Path('/content/food/burger/038_40444322.jpg'),\n",
              " Path('/content/food/burger/039_39522681.jpg'),\n",
              " Path('/content/food/burger/040_462edfd5.jpg'),\n",
              " Path('/content/food/burger/041_2ce37869.jpg'),\n",
              " Path('/content/food/burger/042_836e5b33.jpg'),\n",
              " Path('/content/food/burger/043_041c960c.jpg'),\n",
              " Path('/content/food/burger/044_f8f96d17.jpg'),\n",
              " Path('/content/food/burger/045_fde2d025.jpg'),\n",
              " Path('/content/food/burger/046_79287441.jpg'),\n",
              " Path('/content/food/burger/047_c727584e.jpg'),\n",
              " Path('/content/food/burger/048_53bea8b7.jpg'),\n",
              " Path('/content/food/burger/049_aaf25099.jpg'),\n",
              " Path('/content/food/burger/050_c5a660bb.jpg'),\n",
              " Path('/content/food/burger/051_87daf9e5.jpg'),\n",
              " Path('/content/food/burger/052_4693001e.jpg'),\n",
              " Path('/content/food/burger/053_252fd4cc.jpg'),\n",
              " Path('/content/food/burger/054_c585ae8d.jpg'),\n",
              " Path('/content/food/burger/055_9750cfa0.jpg'),\n",
              " Path('/content/food/burger/056_19f49006.jpg'),\n",
              " Path('/content/food/burger/057_51f71d56.jpg'),\n",
              " Path('/content/food/burger/058_53cf5b55.jpg'),\n",
              " Path('/content/food/burger/059_cac31e93.jpg'),\n",
              " Path('/content/food/burger/060_6b58f769.jpg'),\n",
              " Path('/content/food/burger/061_278f318a.jpg'),\n",
              " Path('/content/food/burger/062_971683bd.jpg'),\n",
              " Path('/content/food/burger/063_bd26376e.jpg'),\n",
              " Path('/content/food/burger/064_62636e0e.jpg'),\n",
              " Path('/content/food/burger/065_a2cbebc6.jpg'),\n",
              " Path('/content/food/burger/066_43b8daf7.jpg'),\n",
              " Path('/content/food/burger/067_be8fe5ed.jpg'),\n",
              " Path('/content/food/burger/068_630f66d1.jpg'),\n",
              " Path('/content/food/burger/069_7cdcc184.jpg'),\n",
              " Path('/content/food/burger/070_fb70ee1f.jpg'),\n",
              " Path('/content/food/burger/071_00968b30.jpg'),\n",
              " Path('/content/food/burger/072_647d606c.jpg'),\n",
              " Path('/content/food/burger/073_39afa537.jpg'),\n",
              " Path('/content/food/burger/074_963ae4ae.jpg'),\n",
              " Path('/content/food/burger/075_80237c1f.jpg'),\n",
              " Path('/content/food/burger/076_78732329.jpg'),\n",
              " Path('/content/food/burger/077_7cafa089.jpg'),\n",
              " Path('/content/food/burger/078_26d814f4.jpg'),\n",
              " Path('/content/food/burger/079_4c3ccc80.jpg'),\n",
              " Path('/content/food/burger/080_dff9ab39.jpg'),\n",
              " Path('/content/food/burger/081_20d22949.jpg'),\n",
              " Path('/content/food/burger/082_d287d6e8.jpg'),\n",
              " Path('/content/food/burger/083_ddb0ebfe.jpg'),\n",
              " Path('/content/food/burger/084_b29b9b6f.jpg'),\n",
              " Path('/content/food/burger/085_c46e7c14.jpg'),\n",
              " Path('/content/food/burger/086_999ed001.jpg'),\n",
              " Path('/content/food/burger/087_b22450de.jpg'),\n",
              " Path('/content/food/burger/088_a6c4a181.jpg'),\n",
              " Path('/content/food/burger/089_942a478a.jpg'),\n",
              " Path('/content/food/burger/090_db4f2c0c.jpg'),\n",
              " Path('/content/food/burger/091_1b679f0c.jpg'),\n",
              " Path('/content/food/burger/092_0e3f56fd.jpg'),\n",
              " Path('/content/food/burger/093_831cc827.jpg'),\n",
              " Path('/content/food/burger/094_d3e2f51f.jpg'),\n",
              " Path('/content/food/burger/095_2b518b03.jpg'),\n",
              " Path('/content/food/burger/096_fb6d136e.jpg'),\n",
              " Path('/content/food/burger/097_a33f45a4.jpg'),\n",
              " Path('/content/food/burger/098_7079ea57.jpg'),\n",
              " Path('/content/food/burger/099_3b966a6d.jpg'),\n",
              " Path('/content/food/burger/100_022eaa9c.jpg')]"
            ]
          },
          "metadata": {
            "tags": []
          },
          "execution_count": 11
        }
      ]
    },
    {
      "cell_type": "code",
      "metadata": {
        "colab": {
          "base_uri": "https://localhost:8080/"
        },
        "id": "vXr2lCd9yNgx",
        "outputId": "c9b352b7-d6fd-4741-c049-68e4f8067268"
      },
      "source": [
        "fns = get_image_files(path)\n",
        "fns"
      ],
      "execution_count": 12,
      "outputs": [
        {
          "output_type": "execute_result",
          "data": {
            "text/plain": [
              "(#200) [Path('/content/food/noodles/001_38aedb78.jpg'),Path('/content/food/noodles/030_20abcb50.jpg'),Path('/content/food/noodles/081_227b4573.jpg'),Path('/content/food/noodles/096_9e1fd519.jpg'),Path('/content/food/noodles/016_bebc4c81.jpg'),Path('/content/food/noodles/047_294f69d8.jpg'),Path('/content/food/noodles/085_a804ff16.jpg'),Path('/content/food/noodles/049_c78ca17b.jpg'),Path('/content/food/noodles/069_6899d2b5.jpg'),Path('/content/food/noodles/026_b84401a8.jpg')...]"
            ]
          },
          "metadata": {
            "tags": []
          },
          "execution_count": 12
        }
      ]
    },
    {
      "cell_type": "code",
      "metadata": {
        "colab": {
          "base_uri": "https://localhost:8080/"
        },
        "id": "UrB43CmCya_l",
        "outputId": "c6a5a55b-0e4e-4469-a287-c8f329bde4a8"
      },
      "source": [
        "failed = verify_images(fns)\n",
        "failed"
      ],
      "execution_count": 13,
      "outputs": [
        {
          "output_type": "execute_result",
          "data": {
            "text/plain": [
              "(#0) []"
            ]
          },
          "metadata": {
            "tags": []
          },
          "execution_count": 13
        }
      ]
    },
    {
      "cell_type": "code",
      "metadata": {
        "id": "8iCwJHGzyiCB"
      },
      "source": [
        "failed.map(Path.unlink);"
      ],
      "execution_count": 14,
      "outputs": []
    },
    {
      "cell_type": "code",
      "metadata": {
        "colab": {
          "base_uri": "https://localhost:8080/",
          "height": 536,
          "referenced_widgets": [
            "6b9c7fe4f30b4eeab1f998a903181e2a",
            "fa9b10f3210f4cdabc7c34aca1ec8970",
            "f234863c3b0c4b638009563087d0b356",
            "2efae7436aa1490889c74797b4d7da92",
            "1ac082826ade404eb6dfa45b26c29fc3",
            "c85531103c5444aabd0ad84251dd5527",
            "2fa0aa3d867947e98967985f40ba1c21",
            "40fbd26eb68842a7ac869ec72f195f70",
            "b8e16b6d42ec402895680c875e448f93",
            "ca3e62d4d4f448dbbce5d0c97f81f5ef",
            "7ba5c505917843d18e2c6c2881797d5d",
            "4e27c3b031b54f3385f30fa44803d508",
            "6b0c1ccc97f64e4eace32c984ebe207a",
            "56fd428cb5f146fca09987ad027d4c48",
            "e15b7a262ca04db4a317ca0aeff19b73",
            "3eec61cf4e6d48b6b364c3ff69969a1b",
            "cfbc3ffc0b834d38ab5704e78ddbc472",
            "08cb359b40d645deb03f714d45ad2e09",
            "055811835bca4183b488391611c06130",
            "15f5daeb5b914eb689718c0133274615",
            "4d654a9ff98b4ab38e4e4b4aaef21387",
            "c42803ca71cb47e9b32b057cb74811a2",
            "78f86d23c0eb42298ac1333206881040",
            "2adeb9c947564e4b99657d8f0a596e9c",
            "8a5a70113f834d95bd0726507c51a8ec",
            "6c2c3323f24e4b76940166bc28c23dba",
            "4457de73dc8f4ee881f51102ffac8fd5",
            "62e43441698c45d1858848c0f39768f4",
            "3c23b9424eb54aab8af771d0f67681be",
            "8027bfd2372f4b8592b0bf2531aad082",
            "f0b1031e37854d419daf70b5c6833159",
            "e5481cbb4dfb42cc9a389ebb5d86ff12",
            "e2f02adbab7946e08d36d17f8f38adbd",
            "3dcb1d658d67444ebd0d9e857df191a8",
            "11414bf4b4554c568f79a7b108e43755",
            "2dbe2319df064b92a288bf7a891dc016",
            "f4ae0c7b75684414a686032f53954d57",
            "8c1197d0f36c4f7897f7a3d86198d2a1",
            "a4bf8e4c4a9647c3affe85fef0b4909c",
            "8a9825be70344ee8a34154603c927331",
            "917753e60b2244c5871a9fa8e0ffddef",
            "2373eb57abcd4894ad2ef9609adafdd2",
            "6f5fb534e2e24f23a10d4971668ed532",
            "a76cb7ecf2074838ae53571c72a99294",
            "1ab0f444f7564c9caa493e21498b7f2e",
            "6ad7a7690c4d407fa560a0648938e43e",
            "86b69deb6a414537a5f5da628f77a8d4",
            "89090a7b48214bf29746c7319db6f21e",
            "e99ee25c188345eca1fddd284fe8e8aa",
            "3f4fd3bd0b7048cdbdc256f9c8665511",
            "90dafdfdecae4aaf8ef0a483e5671c49",
            "5a3b06bd9a0341b48ba0edf92a3288b1",
            "ebd6ade583ab4d18b81e5dc47a916973",
            "77a0bfda95f14099b8bb767463b64993",
            "b161512968c341f489fb77a6d67a6965",
            "a5f141f258cf40a3a90b89cb6e163e6a",
            "f403caff396b4f109827f758bc1fd3f4",
            "67803fd971ea4f73a183f050914494b3",
            "bfe8bec27fb04c108c3652ca12784262",
            "42cb0f3611be4319a9da3e1deabbb6a7",
            "ed1dda4104614b0f80fb4a1ff0e015e2",
            "867ca9e20c6a43dbac941d85fa1471d2",
            "7a5094a71d664083bf3185f98e8502c1",
            "caaf5c1f1313432c8e2e951152576f48",
            "7b3e6a240404498496caf9a59de99f6e",
            "e5645001544d4c85b9ade4a9f423d6ed",
            "8f271c637918459bb2a90c686bc9b0c2",
            "829baa1e7ce446b19b98ac4069f00384",
            "cde974767013423491814a5a4eaed5f4",
            "a8a5927285d04b0896b1100d222f247c",
            "380461a799974d77885cb43b7a7f80d9",
            "8938f1c311644bf9ac160df99b3dc98b",
            "8a5546ded07041c7bc074b42cfc4e178",
            "a08d699ed8fb47fdb99ac03c61219bcb",
            "c33c2450fe264c969e38e315c58305e8",
            "8a59dd1ce10e48c9901b7a9acad40cac",
            "2ba3984d8cc0474393c1c48c057847a0",
            "fe94cecaaef04dd38a0b7a209cd5e89e",
            "b71375a3ea3645e081ac35b9c2c24a25",
            "30e680ce28c14546a9d55ed814b45013",
            "a7c0562924f24b9e9b3fd3e97a985c99",
            "78db4c852c5d4827a9ae6808eb673333",
            "4f8cb02461fd43a49e9f09b0cfac5ec3",
            "96c38ad695a34578b142bee017435955"
          ]
        },
        "id": "R_YOgjSvyrhP",
        "outputId": "29acd003-955a-4f1a-caa8-48439955e099"
      },
      "source": [
        "display_image_cleaner(path)"
      ],
      "execution_count": 15,
      "outputs": [
        {
          "output_type": "display_data",
          "data": {
            "application/vnd.jupyter.widget-view+json": {
              "model_id": "6b9c7fe4f30b4eeab1f998a903181e2a",
              "version_minor": 0,
              "version_major": 2
            },
            "text/plain": [
              "HBox(children=(Button(description='|<<', layout=Layout(width='60px'), style=ButtonStyle()), Button(description…"
            ]
          },
          "metadata": {
            "tags": []
          }
        },
        {
          "output_type": "display_data",
          "data": {
            "application/vnd.jupyter.widget-view+json": {
              "model_id": "2adeb9c947564e4b99657d8f0a596e9c",
              "version_minor": 0,
              "version_major": 2
            },
            "text/plain": [
              "HTML(value='<h2>No images left to display in this folder.</h2>', layout=Layout(visibility='hidden'))"
            ]
          },
          "metadata": {
            "tags": []
          }
        },
        {
          "output_type": "display_data",
          "data": {
            "application/vnd.jupyter.widget-view+json": {
              "model_id": "4457de73dc8f4ee881f51102ffac8fd5",
              "version_minor": 0,
              "version_major": 2
            },
            "text/plain": [
              "GridBox(children=(VBox(children=(Image(value=b'', layout=\"Layout(width='150px')\"), Button(description='Delete'…"
            ]
          },
          "metadata": {
            "tags": []
          }
        }
      ]
    },
    {
      "cell_type": "code",
      "metadata": {
        "id": "LNMIu94uyw8Y"
      },
      "source": [
        "food = DataBlock(blocks=(ImageBlock,CategoryBlock),get_items=get_image_files,splitter=RandomSplitter(valid_pct=0.2,seed=42),get_y=parent_label,item_tfms=RandomResizedCrop(224,min_scale=0.3),batch_tfms=aug_transforms())"
      ],
      "execution_count": 16,
      "outputs": []
    },
    {
      "cell_type": "code",
      "metadata": {
        "id": "Q-Z6ii_D00UP"
      },
      "source": [
        "dls = food.dataloaders(path)"
      ],
      "execution_count": 17,
      "outputs": []
    },
    {
      "cell_type": "code",
      "metadata": {
        "colab": {
          "base_uri": "https://localhost:8080/",
          "height": 192
        },
        "id": "fU_V655U04fI",
        "outputId": "9c9ea0c5-45be-4877-f1a7-b4f8647bd0cc"
      },
      "source": [
        "dls.valid.show_batch(max_n=4,nrows=1)"
      ],
      "execution_count": 18,
      "outputs": [
        {
          "output_type": "display_data",
          "data": {
            "image/png": "[encoded data removed]",
            "text/plain": [
              "<Figure size 864x216 with 4 Axes>"
            ]
          },
          "metadata": {
            "tags": [],
            "needs_background": "light"
          }
        }
      ]
    },
    {
      "cell_type": "code",
      "metadata": {
        "colab": {
          "base_uri": "https://localhost:8080/",
          "height": 305,
          "referenced_widgets": [
            "2a6ae57b13f9429fa42cbff5226edb45",
            "467f6f7ea74447259ec2952dca72b33d",
            "f73c4b55130e496a905ca644b8e43d63",
            "fa7e0d91125b4af1a4cf1562986c598f",
            "cc32cb218e0642dc92a835a340015273",
            "4a31047e143f480f8f38d15c9b83124d",
            "7ed0bba6806344d0b718d0062a6e9301",
            "6a31723f9c1d4920bab4a7d2c66173ef"
          ]
        },
        "id": "q5hmGgKd1Gw2",
        "outputId": "523dae08-0c60-4182-fa31-7c311ad72fd5"
      },
      "source": [
        "learn = cnn_learner(dls,resnet18,metrics=error_rate)\n",
        "learn.fine_tune(4)"
      ],
      "execution_count": 19,
      "outputs": [
        {
          "output_type": "stream",
          "text": [
            "Downloading: \"https://download.pytorch.org/models/resnet18-5c106cde.pth\" to /root/.cache/torch/hub/checkpoints/resnet18-5c106cde.pth\n"
          ],
          "name": "stderr"
        },
        {
          "output_type": "display_data",
          "data": {
            "application/vnd.jupyter.widget-view+json": {
              "model_id": "2a6ae57b13f9429fa42cbff5226edb45",
              "version_minor": 0,
              "version_major": 2
            },
            "text/plain": [
              "HBox(children=(FloatProgress(value=0.0, max=46827520.0), HTML(value='')))"
            ]
          },
          "metadata": {
            "tags": []
          }
        },
        {
          "output_type": "stream",
          "text": [
            "\n"
          ],
          "name": "stdout"
        },
        {
          "output_type": "display_data",
          "data": {
            "text/html": [
              "<table border=\"1\" class=\"dataframe\">\n",
              "  <thead>\n",
              "    <tr style=\"text-align: left;\">\n",
              "      <th>epoch</th>\n",
              "      <th>train_loss</th>\n",
              "      <th>valid_loss</th>\n",
              "      <th>error_rate</th>\n",
              "      <th>time</th>\n",
              "    </tr>\n",
              "  </thead>\n",
              "  <tbody>\n",
              "    <tr>\n",
              "      <td>0</td>\n",
              "      <td>1.464529</td>\n",
              "      <td>1.458904</td>\n",
              "      <td>0.461538</td>\n",
              "      <td>00:27</td>\n",
              "    </tr>\n",
              "  </tbody>\n",
              "</table>"
            ],
            "text/plain": [
              "<IPython.core.display.HTML object>"
            ]
          },
          "metadata": {
            "tags": []
          }
        },
        {
          "output_type": "display_data",
          "data": {
            "text/html": [
              "<table border=\"1\" class=\"dataframe\">\n",
              "  <thead>\n",
              "    <tr style=\"text-align: left;\">\n",
              "      <th>epoch</th>\n",
              "      <th>train_loss</th>\n",
              "      <th>valid_loss</th>\n",
              "      <th>error_rate</th>\n",
              "      <th>time</th>\n",
              "    </tr>\n",
              "  </thead>\n",
              "  <tbody>\n",
              "    <tr>\n",
              "      <td>0</td>\n",
              "      <td>0.667726</td>\n",
              "      <td>0.732543</td>\n",
              "      <td>0.256410</td>\n",
              "      <td>00:41</td>\n",
              "    </tr>\n",
              "    <tr>\n",
              "      <td>1</td>\n",
              "      <td>0.506458</td>\n",
              "      <td>0.068455</td>\n",
              "      <td>0.025641</td>\n",
              "      <td>00:38</td>\n",
              "    </tr>\n",
              "    <tr>\n",
              "      <td>2</td>\n",
              "      <td>0.376591</td>\n",
              "      <td>0.011750</td>\n",
              "      <td>0.000000</td>\n",
              "      <td>00:37</td>\n",
              "    </tr>\n",
              "    <tr>\n",
              "      <td>3</td>\n",
              "      <td>0.290119</td>\n",
              "      <td>0.005543</td>\n",
              "      <td>0.000000</td>\n",
              "      <td>00:37</td>\n",
              "    </tr>\n",
              "  </tbody>\n",
              "</table>"
            ],
            "text/plain": [
              "<IPython.core.display.HTML object>"
            ]
          },
          "metadata": {
            "tags": []
          }
        }
      ]
    },
    {
      "cell_type": "code",
      "metadata": {
        "colab": {
          "base_uri": "https://localhost:8080/",
          "height": 311
        },
        "id": "U8X3Ui9d1kdx",
        "outputId": "eb0db797-74de-4578-c8df-1efebc377b9a"
      },
      "source": [
        "interp = ClassificationInterpretation.from_learner(learn)\n",
        "interp.plot_confusion_matrix()"
      ],
      "execution_count": 20,
      "outputs": [
        {
          "output_type": "display_data",
          "data": {
            "text/html": [
              ""
            ],
            "text/plain": [
              "<IPython.core.display.HTML object>"
            ]
          },
          "metadata": {
            "tags": []
          }
        },
        {
          "output_type": "display_data",
          "data": {
            "image/png": "[encoded data removed]",
            "text/plain": [
              "<Figure size 432x288 with 1 Axes>"
            ]
          },
          "metadata": {
            "tags": [],
            "needs_background": "light"
          }
        }
      ]
    },
    {
      "cell_type": "code",
      "metadata": {
        "colab": {
          "base_uri": "https://localhost:8080/",
          "height": 49,
          "referenced_widgets": [
            "52660296349d47cfa7e256144d462122",
            "84c95dc4aaed491785aec721f5018c62",
            "4aed09ea14e84354bc149abb876cd856"
          ]
        },
        "id": "u5Dl6Bet2tYy",
        "outputId": "8c05c5d7-a763-44b3-9e89-55665b22cb5d"
      },
      "source": [
        "btn_upload = widgets.FileUpload()\n",
        "btn_upload"
      ],
      "execution_count": 61,
      "outputs": [
        {
          "output_type": "display_data",
          "data": {
            "application/vnd.jupyter.widget-view+json": {
              "model_id": "52660296349d47cfa7e256144d462122",
              "version_minor": 0,
              "version_major": 2
            },
            "text/plain": [
              "FileUpload(value={}, description='Upload')"
            ]
          },
          "metadata": {
            "tags": []
          }
        }
      ]
    },
    {
      "cell_type": "code",
      "metadata": {
        "colab": {
          "base_uri": "https://localhost:8080/",
          "height": 167
        },
        "id": "x9OGHKm43KOT",
        "outputId": "bca8b89f-0aa4-4e45-e579-f7afb84fdbec"
      },
      "source": [
        "img = PILImage.create(btn_upload.data[-1])"
      ],
      "execution_count": 60,
      "outputs": [
        {
          "output_type": "error",
          "ename": "IndexError",
          "evalue": "ignored",
          "traceback": [
            "\u001b[0;31m---------------------------------------------------------------------------\u001b[0m",
            "\u001b[0;31mIndexError\u001b[0m                                Traceback (most recent call last)",
            "\u001b[0;32m<ipython-input-60-82db33b3197c>\u001b[0m in \u001b[0;36m<module>\u001b[0;34m()\u001b[0m\n\u001b[0;32m----> 1\u001b[0;31m \u001b[0mimg\u001b[0m \u001b[0;34m=\u001b[0m \u001b[0mPILImage\u001b[0m\u001b[0;34m.\u001b[0m\u001b[0mcreate\u001b[0m\u001b[0;34m(\u001b[0m\u001b[0mbtn_upload\u001b[0m\u001b[0;34m.\u001b[0m\u001b[0mdata\u001b[0m\u001b[0;34m[\u001b[0m\u001b[0;34m-\u001b[0m\u001b[0;36m1\u001b[0m\u001b[0;34m]\u001b[0m\u001b[0;34m)\u001b[0m\u001b[0;34m\u001b[0m\u001b[0;34m\u001b[0m\u001b[0m\n\u001b[0m",
            "\u001b[0;31mIndexError\u001b[0m: list index out of range"
          ]
        }
      ]
    },
    {
      "cell_type": "code",
      "metadata": {
        "colab": {
          "base_uri": "https://localhost:8080/",
          "height": 107,
          "referenced_widgets": [
            "083f82f11e94401a9acc8d99968b871c",
            "c6a2f2f614ea4c9ab7b1238b839e13ef"
          ]
        },
        "id": "OoG_75wA4ZvT",
        "outputId": "cf5360e2-d8b4-44f0-a51b-e6714c7bdf59"
      },
      "source": [
        "out_pl = widgets.Output()\n",
        "out_pl.clear_output()\n",
        "with out_pl : display(img.to_thumb(128,128))\n",
        "out_pl"
      ],
      "execution_count": 62,
      "outputs": [
        {
          "output_type": "display_data",
          "data": {
            "application/vnd.jupyter.widget-view+json": {
              "model_id": "083f82f11e94401a9acc8d99968b871c",
              "version_minor": 0,
              "version_major": 2
            },
            "text/plain": [
              "Output()"
            ]
          },
          "metadata": {
            "tags": []
          }
        }
      ]
    },
    {
      "cell_type": "code",
      "metadata": {
        "colab": {
          "base_uri": "https://localhost:8080/",
          "height": 49,
          "referenced_widgets": [
            "456d212c7e3c4edb830c0239c98bbd58",
            "f6714e9b1aea48bba98cb0645156b62b",
            "e85dd96f26364791be79167f7bf83268"
          ]
        },
        "id": "bIrfkMjh4-lW",
        "outputId": "38bf3dd2-3571-4be3-8f82-e8b63004c6c9"
      },
      "source": [
        "pred,pred_idx,probs = learn.predict(img)\n",
        "lbl_pred = widgets.Label()\n",
        "lbl_pred.value = f'Prediction: {pred}; Probability: {probs[pred_idx]:04f}'\n",
        "lbl_pred"
      ],
      "execution_count": 63,
      "outputs": [
        {
          "output_type": "display_data",
          "data": {
            "text/html": [
              ""
            ],
            "text/plain": [
              "<IPython.core.display.HTML object>"
            ]
          },
          "metadata": {
            "tags": []
          }
        },
        {
          "output_type": "display_data",
          "data": {
            "application/vnd.jupyter.widget-view+json": {
              "model_id": "456d212c7e3c4edb830c0239c98bbd58",
              "version_minor": 0,
              "version_major": 2
            },
            "text/plain": [
              "Label(value='Prediction: noodles; Probability: 0.998127')"
            ]
          },
          "metadata": {
            "tags": []
          }
        }
      ]
    },
    {
      "cell_type": "code",
      "metadata": {
        "id": "s5cjWxTI6FC0"
      },
      "source": [
        "learn.export()"
      ],
      "execution_count": 28,
      "outputs": []
    },
    {
      "cell_type": "code",
      "metadata": {
        "colab": {
          "base_uri": "https://localhost:8080/"
        },
        "id": "nO4P9UI2Y40m",
        "outputId": "c2c11bfa-016c-4123-da0c-cb58dd47251e"
      },
      "source": [
        "path = Path()\n",
        "path.ls(file_exts='.pkl')"
      ],
      "execution_count": 29,
      "outputs": [
        {
          "output_type": "execute_result",
          "data": {
            "text/plain": [
              "(#1) [Path('export.pkl')]"
            ]
          },
          "metadata": {
            "tags": []
          },
          "execution_count": 29
        }
      ]
    },
    {
      "cell_type": "code",
      "metadata": {
        "id": "C7cRJVPabPrJ"
      },
      "source": [
        "learn_inf = load_learner(path/'export.pkl')"
      ],
      "execution_count": 34,
      "outputs": []
    },
    {
      "cell_type": "code",
      "metadata": {
        "id": "nP5oIyhSsDGQ",
        "colab": {
          "base_uri": "https://localhost:8080/",
          "height": 49,
          "referenced_widgets": [
            "9d55a1e081f8419eb606168aefcc9b62",
            "309ced68b918402e9c24666a12a6c59a",
            "69f47734d4ea4cd0bcb4c99006b615a3"
          ]
        },
        "outputId": "1232c26c-cd6c-4853-ae13-c3e16a73c35b"
      },
      "source": [
        "btn_run = widgets.Button(description='Classify')\n",
        "btn_run"
      ],
      "execution_count": 45,
      "outputs": [
        {
          "output_type": "display_data",
          "data": {
            "application/vnd.jupyter.widget-view+json": {
              "model_id": "9d55a1e081f8419eb606168aefcc9b62",
              "version_minor": 0,
              "version_major": 2
            },
            "text/plain": [
              "Button(description='Classify', style=ButtonStyle())"
            ]
          },
          "metadata": {
            "tags": []
          }
        }
      ]
    },
    {
      "cell_type": "code",
      "metadata": {
        "id": "B5EASzeMsDGR"
      },
      "source": [
        "def on_click_classify(change):\n",
        "    img = PILImage.create(btn_upload.data[-1])\n",
        "    out_pl.clear_output()\n",
        "    with out_pl: display(img.to_thumb(128,128))\n",
        "    pred,pred_idx,probs = learn_inf.predict(img)\n",
        "    lbl_pred.value = f'Prediction: {pred}; Probability: {probs[pred_idx]:.04f}'\n",
        "\n",
        "btn_run.on_click(on_click_classify)"
      ],
      "execution_count": 46,
      "outputs": []
    },
    {
      "cell_type": "code",
      "metadata": {
        "colab": {
          "base_uri": "https://localhost:8080/",
          "height": 235,
          "referenced_widgets": [
            "39b68d77d56d47f281f06f8592e20818",
            "c333cee7bc4240a0b4bc5b195406f150",
            "b96889aed5a5476f858ce308a5bd35b6",
            "8f73ecb2d3b143378f82bf71b750edd1",
            "9d55a1e081f8419eb606168aefcc9b62",
            "083f82f11e94401a9acc8d99968b871c",
            "456d212c7e3c4edb830c0239c98bbd58",
            "dd022a9c2f0e4b5386dccf631b786c6a",
            "5bbf1eca681e49eaaec2dd5ccd1a8c43",
            "60db4cae459743eabab89749bf8746f9",
            "0e5c54aace56487abae529983cb42272",
            "309ced68b918402e9c24666a12a6c59a",
            "69f47734d4ea4cd0bcb4c99006b615a3",
            "f6714e9b1aea48bba98cb0645156b62b",
            "e85dd96f26364791be79167f7bf83268",
            "c6a2f2f614ea4c9ab7b1238b839e13ef"
          ]
        },
        "id": "t00PNnlda0RS",
        "outputId": "4a19de87-634b-4514-e566-68ed0d817e51"
      },
      "source": [
        "btn_upload = widgets.FileUpload()\n",
        "VBox([widgets.Label('Choose da food'),btn_upload,btn_run,out_pl,lbl_pred])"
      ],
      "execution_count": 65,
      "outputs": [
        {
          "output_type": "display_data",
          "data": {
            "application/vnd.jupyter.widget-view+json": {
              "model_id": "39b68d77d56d47f281f06f8592e20818",
              "version_minor": 0,
              "version_major": 2
            },
            "text/plain": [
              "VBox(children=(Label(value='Choose da food'), FileUpload(value={}, description='Upload'), Button(description='…"
            ]
          },
          "metadata": {
            "tags": []
          }
        },
        {
          "output_type": "display_data",
          "data": {
            "text/html": [
              ""
            ],
            "text/plain": [
              "<IPython.core.display.HTML object>"
            ]
          },
          "metadata": {
            "tags": []
          }
        }
      ]
    }
  ]
}